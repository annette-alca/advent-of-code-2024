{
 "cells": [
  {
   "cell_type": "markdown",
   "id": "78622b81",
   "metadata": {},
   "source": [
    "My solution to https://adventofcode.com/2024/day/24, titled Crossed Wires.\n",
    "\n",
    "This problem involves AND, OR, XOR calculations and conversion from binary to decimal.\n",
    "\n",
    "My <ins>Part 1</ins> solution involves a recursive function `get_more_b2_dict_items` to get values from all the input lines, which can't be performed in order (some operator values aren't available when they are needed in the text file).\n",
    "\n",
    "-Annette"
   ]
  },
  {
   "cell_type": "markdown",
   "id": "a43a9c32",
   "metadata": {},
   "source": [
    "<!-- My solution to https://adventofcode.com/2024/day/24, called Crossed Wires.\n",
    "\n",
    "Uses AND, OR, XOR methods and binary numbers.\n",
    "\n",
    "-Annette -->"
   ]
  },
  {
   "cell_type": "code",
   "execution_count": 65,
   "id": "d2455f98",
   "metadata": {},
   "outputs": [],
   "source": [
    "# open puzzle input and get information\n",
    "with open ('day24_input.txt', 'r') as f:\n",
    "    lines = f.read().splitlines()\n"
   ]
  },
  {
   "cell_type": "code",
   "execution_count": 77,
   "id": "ba74bbbe",
   "metadata": {},
   "outputs": [],
   "source": [
    "#Part 1 Functions\n",
    "\n",
    "b2d = {} #short for binary dictionary\n",
    "\n",
    "def get_b2_dict(lines:list): \n",
    "    '''create dictionary of strings and binary values up to line 89 of input'''\n",
    "    global b2d\n",
    "    for l in lines[:90]:\n",
    "        key,val = l.split(': ')\n",
    "        b2d[key] = int(val)\n",
    "\n",
    "def operation(line:str):\n",
    "    '''performs &,or,^ operations and assigns value to designated key '''\n",
    "    global b2d\n",
    "    val1, op, val2, arrow, val3 = line.split()\n",
    "    if op == 'AND':\n",
    "        b2d[val3] = b2d[val1] & b2d[val2]\n",
    "    elif op == 'OR':\n",
    "        b2d[val3] = b2d[val1] or b2d[val2]\n",
    "    else:\n",
    "        b2d[val3] = b2d[val1] ^ b2d[val2]\n",
    "\n",
    "def get_more_b2_dict_items(op_list:list):\n",
    "    '''a recursive function to get all values in all operations'''\n",
    "    global b2d\n",
    "    for line in op_list:\n",
    "        try:\n",
    "            operation(line)\n",
    "            op_list.remove(line)\n",
    "        except KeyError:\n",
    "            continue\n",
    "    if len(op_list) == 0:\n",
    "        return True\n",
    "    return get_more_b2_dict_items(op_list)\n",
    "\n",
    "def b2_dict_to_b10_value(b2z:dict):\n",
    "    '''convert dictionary of z values to decimal number'''\n",
    "    b10_total = 0\n",
    "    for key in b2z:\n",
    "        exponent = int(key[1:])\n",
    "        b10_total += b2z[key] * 2**exponent\n",
    "    return b10_total"
   ]
  },
  {
   "cell_type": "code",
   "execution_count": 78,
   "id": "eefac712",
   "metadata": {},
   "outputs": [
    {
     "name": "stdout",
     "output_type": "stream",
     "text": [
      "Part 1 Answer: 65740327379952\n"
     ]
    }
   ],
   "source": [
    "#Part 1 solution\n",
    "lines3 = lines[91:]\n",
    "get_b2_dict(lines[:])\n",
    "completed = get_more_b2_dict_items(lines3)\n",
    "if completed:\n",
    "    b2z = {key:b2d[key] for key in b2d.keys() if key.startswith('z')}\n",
    "print(f'Part 1 Answer: {b2_dict_to_b10_value(b2z)}')"
   ]
  },
  {
   "cell_type": "code",
   "execution_count": null,
   "id": "94a96441",
   "metadata": {},
   "outputs": [],
   "source": [
    "#Part2 Function\n"
   ]
  },
  {
   "cell_type": "code",
   "execution_count": null,
   "id": "b65c32d8",
   "metadata": {},
   "outputs": [],
   "source": [
    "#Part2 Solution\n",
    "b2x = {key:b2d[key] for key in b2d.keys() if key.startswith('x')}\n",
    "b2y = {key:b2d[key] for key in b2d.keys() if key.startswith('y')}"
   ]
  },
  {
   "cell_type": "code",
   "execution_count": 76,
   "id": "689a179a",
   "metadata": {},
   "outputs": [
    {
     "name": "stdout",
     "output_type": "stream",
     "text": [
      "0b1110111100100111011011110111000110010001110000\n",
      "0b1110111100101001011100110111000110001111110000\n"
     ]
    }
   ],
   "source": [
    "print(bin(xsum + ysum))\n",
    "print(bin(zsum))"
   ]
  },
  {
   "cell_type": "code",
   "execution_count": null,
   "id": "f273683b",
   "metadata": {},
   "outputs": [],
   "source": []
  }
 ],
 "metadata": {
  "kernelspec": {
   "display_name": "venv",
   "language": "python",
   "name": "python3"
  },
  "language_info": {
   "codemirror_mode": {
    "name": "ipython",
    "version": 3
   },
   "file_extension": ".py",
   "mimetype": "text/x-python",
   "name": "python",
   "nbconvert_exporter": "python",
   "pygments_lexer": "ipython3",
   "version": "3.13.2"
  }
 },
 "nbformat": 4,
 "nbformat_minor": 5
}
