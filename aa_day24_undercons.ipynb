{
 "cells": [
  {
   "cell_type": "markdown",
   "id": "78622b81",
   "metadata": {},
   "source": [
    "My solution to https://adventofcode.com/2024/day/24, titled Crossed Wires.\n",
    "\n",
    "This problem involves AND, OR, XOR calculations and conversion from binary to decimal.\n",
    "\n",
    "My <ins>Part 1</ins> solution involves a recursive function `get_more_b2_dict_items` to get values from all the input lines, which can't be performed in order (some operator values aren't available when they are needed in the text file). Finally, all the z outputs are added up.\n",
    "\n",
    "<ins>Part 2</ins> involves finding 4 pairs of different input gates, whose values need swapping in order to change the value of 10 different z output gates. This requires finding 8 input gates that lead to the 10 z gates. \n",
    "\n",
    "-Annette"
   ]
  },
  {
   "cell_type": "markdown",
   "id": "a43a9c32",
   "metadata": {},
   "source": [
    "<!-- My solution to https://adventofcode.com/2024/day/24, called Crossed Wires.\n",
    "\n",
    "Uses AND, OR, XOR methods and binary numbers.\n",
    "\n",
    "-Annette -->"
   ]
  },
  {
   "cell_type": "code",
   "execution_count": 1,
   "id": "d2455f98",
   "metadata": {},
   "outputs": [],
   "source": [
    "# open puzzle input and get information\n",
    "with open ('day24_input.txt', 'r') as f:\n",
    "    lines = f.read().splitlines()\n"
   ]
  },
  {
   "cell_type": "code",
   "execution_count": 2,
   "id": "ba74bbbe",
   "metadata": {},
   "outputs": [],
   "source": [
    "#Part 1 Functions\n",
    "\n",
    "b2d = {} #short for binary dictionary\n",
    "\n",
    "def get_b2_dict(lines:list): \n",
    "    '''create dictionary of strings and binary values up to line 89 of input'''\n",
    "    global b2d\n",
    "    for l in lines[:90]:\n",
    "        key,val = l.split(': ')\n",
    "        b2d[key] = int(val)\n",
    "\n",
    "def operation(line:str):\n",
    "    '''performs &,or,^ operations and assigns value to designated key '''\n",
    "    global b2d\n",
    "    val1, op, val2, arrow, val3 = line.split()\n",
    "    if op == 'AND':\n",
    "        b2d[val3] = b2d[val1] & b2d[val2]\n",
    "    elif op == 'OR':\n",
    "        b2d[val3] = b2d[val1] or b2d[val2]\n",
    "    else:\n",
    "        b2d[val3] = b2d[val1] ^ b2d[val2]\n",
    "\n",
    "def get_more_b2_dict_items(op_list:list):\n",
    "    '''a recursive function to get all values in all operations'''\n",
    "    global b2d\n",
    "    for line in op_list:\n",
    "        try:\n",
    "            operation(line)\n",
    "            op_list.remove(line)\n",
    "        except KeyError:\n",
    "            continue\n",
    "    if len(op_list) == 0:\n",
    "        return True\n",
    "    return get_more_b2_dict_items(op_list)\n",
    "\n",
    "def b2_dict_to_b10_value(b2z:dict):\n",
    "    '''convert dictionary of z values to decimal number'''\n",
    "    b10_total = 0\n",
    "    for key in b2z:\n",
    "        exponent = int(key[1:])\n",
    "        b10_total += b2z[key] * 2**exponent\n",
    "    return b10_total"
   ]
  },
  {
   "cell_type": "code",
   "execution_count": 3,
   "id": "eefac712",
   "metadata": {},
   "outputs": [
    {
     "name": "stdout",
     "output_type": "stream",
     "text": [
      "Part 1 Answer: 65740327379952\n"
     ]
    }
   ],
   "source": [
    "#Part 1 solution\n",
    "lines3 = lines[91:]\n",
    "get_b2_dict(lines[:])\n",
    "completed = get_more_b2_dict_items(lines3)\n",
    "if completed:\n",
    "    b2z = {key:b2d[key] for key in b2d.keys() if key.startswith('z')}\n",
    "answer1 = b2_dict_to_b10_value(b2z)\n",
    "print(f'Part 1 Answer: {answer1}')"
   ]
  },
  {
   "cell_type": "code",
   "execution_count": 4,
   "id": "94a96441",
   "metadata": {},
   "outputs": [],
   "source": [
    "#Part2 Function\n",
    "def b2_dict_find_diff(b2z:dict, exz:list):\n",
    "    diffs = []\n",
    "    for key in b2z:\n",
    "        position = len(exz)-1-int(key[1:])\n",
    "        if b2z[key] != int(exz[position]):\n",
    "            diffs.append(key)\n",
    "    return sorted(diffs)\n",
    "\n",
    "def get_operators(val3_list, operators={}):\n",
    "    '''\n",
    "    args:\n",
    "    val3_list: list or set of final values\n",
    "    lines: lines from original text where operations are listed\n",
    "    operators: initially empty dictionary, but will be populated by returned operators as this function can be used in a loop\n",
    "\n",
    "    returns:\n",
    "        operators : dictionary of operators for values in val3_list\n",
    "        endpoints: list of values in val3 that have no operators'''\n",
    "    global lines4\n",
    "    endpoints = []\n",
    "    newvals = []\n",
    "    for v3 in val3_list:\n",
    "        found = False\n",
    "        for l in lines4:\n",
    "            val1, op, val2, arrow, val3 = l.split()\n",
    "            if v3 == val3:\n",
    "                operators[val1] = operators.get(val1,0) + 1\n",
    "                operators[val2] = operators.get(val2,0) + 1\n",
    "                newvals.append(val1)\n",
    "                newvals.append(val2)\n",
    "                found = True\n",
    "                break\n",
    "        if not found:\n",
    "            endpoints.append(v3)\n",
    "    return set(newvals), operators, endpoints\n",
    "    "
   ]
  },
  {
   "cell_type": "code",
   "execution_count": 5,
   "id": "b65c32d8",
   "metadata": {},
   "outputs": [
    {
     "name": "stdout",
     "output_type": "stream",
     "text": [
      "List of z gates that need swapping: ['z07', 'z08', 'z09', 'z10', 'z24', 'z25', 'z26', 'z31', 'z32', 'z33'].\n",
      "There are 10 z gates.\n"
     ]
    }
   ],
   "source": [
    "#Part2A Solution\n",
    "b2x = {key:b2d[key] for key in b2d.keys() if key.startswith('x')}\n",
    "b2y = {key:b2d[key] for key in b2d.keys() if key.startswith('y')}\n",
    "\n",
    "#sum of x values and y values, then convert this to binary, convert the resulting number to a list of 46 positions\n",
    "expectedz = b2_dict_to_b10_value(b2x) + b2_dict_to_b10_value(b2y)\n",
    "exz = list(bin(expectedz))[2:]\n",
    "diffs = b2_dict_find_diff(b2z, exz)\n",
    "print(f\"List of z gates that need swapping: {diffs}.\\nThere are {len(diffs)} z gates.\")\n",
    "\n",
    "\n",
    "\n",
    "\n"
   ]
  },
  {
   "cell_type": "code",
   "execution_count": 6,
   "id": "1513fcac",
   "metadata": {},
   "outputs": [
    {
     "name": "stdout",
     "output_type": "stream",
     "text": [
      "10 {'y05', 'sbq', 'x21', 'x29', 'pvw', 'mcs', 'ccp', 'djt', 'y28', 'dmw', 'mrt', 'vtg', 'rhn', 'dpv', 'btc', 'x28', 'x06', 'x22', 'y06', 'x20', 'nmm', 'jsj', 'y04', 'sbf', 'x04', 'x27', 'y22', 'y21', 'vjb', 'mgt', 'y27', 'y29', 'y20', 'pbq', 'x05', 'cdw'}\n",
      "ended ['y05', 'x29', 'x21', 'y28', 'x28', 'x06', 'x22', 'y06', 'x20', 'y04', 'x04', 'x27', 'y22', 'y21', 'y27', 'y29', 'y20', 'x05']\n",
      "ops {'x07': 4, 'y07': 4, 'bcp': 3, 'rgc': 3, 'vpv': 2, 'ddq': 2, 'ggd': 1, 'dfm': 1, 'ktp': 3, 'rjm': 3, 'gvs': 2, 'hnw': 2, 'pmm': 1, 'vgm': 1, 'kqk': 3, 'djr': 3, 'vdd': 2, 'dgk': 2, 'chd': 1, 'mrp': 1, 'x31': 5, 'y31': 5, 'pbh': 2, 'htn': 2, 'bgs': 2, 'dvp': 2, 'x24': 5, 'y24': 5, 'x32': 3, 'y32': 3, 'swt': 3, 'ghb': 3, 'wsv': 2, 'pwn': 2, 'vdr': 1, 'dkd': 1, 'y09': 3, 'x09': 3, 'x08': 5, 'y08': 5, 'wdr': 1, 'htq': 1, 'x10': 1, 'y10': 1, 'y33': 1, 'x33': 1, 'nnh': 1, 'bjr': 1, 'cms': 3, 'qdw': 3, 'y26': 1, 'x26': 1, 'x25': 3, 'y25': 3, 'hcg': 3, 'cwb': 3, 'kpv': 6, 'rvc': 6, 'y23': 6, 'x23': 6, 'pgt': 3, 'hbv': 3, 'x30': 6, 'y30': 6, 'msm': 3, 'fdm': 3, 'dgm': 3, 'cth': 3, 'fmg': 3, 'cjw': 3, 'cfw': 3, 'mwg': 3, 'psj': 3, 'qbn': 3, 'x29': 6, 'y29': 6, 'x22': 6, 'y22': 6, 'vgj': 3, 'pms': 3, 'y06': 6, 'x06': 6, 'qgc': 3, 'kfh': 3, 'djt': 3, 'sbf': 3, 'vjb': 3, 'mrt': 3, 'mcs': 3, 'jsj': 3, 'nnt': 2, 'cbv': 2, 'pnf': 2, 'tmr': 2, 'qqt': 2, 'vdb': 2, 'x21': 4, 'y21': 4, 'x05': 4, 'y05': 4, 'y28': 4, 'x28': 4, 'pbq': 2, 'dpv': 2, 'ccp': 2, 'vtg': 2, 'cdw': 2, 'mgt': 2, 'y20': 2, 'x20': 2, 'gnd': 1, 'ddh': 1, 'x04': 2, 'y04': 2, 'x27': 2, 'y27': 2, 'rkw': 1, 'shk': 1, 'cdb': 1, 'rtm': 1, 'rhn': 1, 'nmm': 1, 'btc': 1, 'pvw': 1, 'dmw': 1, 'sbq': 1} \n",
      "\n"
     ]
    }
   ],
   "source": [
    "#Finding 8 gates that lead to the 10 z values\n",
    "\n",
    "temp_vals = diffs[:]\n",
    "counter=0\n",
    "ops = {}\n",
    "lines4 = lines[91:]\n",
    "\n",
    "while counter<10:\n",
    "#not all([op.startswith('x') or op.startswith('y') for op in temp_ops]):\n",
    "    temp_vals, ops, endpoints = get_operators(temp_vals, ops)\n",
    "    counter +=1\n",
    "print(counter, temp_vals)\n",
    "print('ended', endpoints)\n",
    "print('ops', ops,'\\n')\n",
    "# print(len(all_ops_list))\n"
   ]
  },
  {
   "cell_type": "code",
   "execution_count": 12,
   "id": "a5a8e1c0",
   "metadata": {},
   "outputs": [
    {
     "data": {
      "text/plain": [
       "['z07', 'z08', 'z09', 'z10', 'z24', 'z25', 'z26', 'z31', 'z32', 'z33']"
      ]
     },
     "execution_count": 12,
     "metadata": {},
     "output_type": "execute_result"
    }
   ],
   "source": [
    "diffs"
   ]
  },
  {
   "cell_type": "code",
   "execution_count": 7,
   "id": "1ca76ee6",
   "metadata": {},
   "outputs": [
    {
     "ename": "SyntaxError",
     "evalue": "invalid syntax (3469792871.py, line 6)",
     "output_type": "error",
     "traceback": [
      "  \u001b[36mCell\u001b[39m\u001b[36m \u001b[39m\u001b[32mIn[7]\u001b[39m\u001b[32m, line 6\u001b[39m\n\u001b[31m    \u001b[39m\u001b[31mwhile\u001b[39m\n          ^\n\u001b[31mSyntaxError\u001b[39m\u001b[31m:\u001b[39m invalid syntax\n"
     ]
    }
   ],
   "source": [
    "vals = diffs[:] # the z values\n",
    "zset = {}\n",
    "for i in range(5,1,-1):\n",
    "    ops = [op for op in ops.keys() if ops[op]>counter]\n",
    "    for o in ops:\n",
    "        while "
   ]
  },
  {
   "cell_type": "code",
   "execution_count": null,
   "id": "36758672",
   "metadata": {},
   "outputs": [
    {
     "name": "stdout",
     "output_type": "stream",
     "text": [
      "{}\n"
     ]
    }
   ],
   "source": [
    "opD = {op:all_ops_list.count(op) for op in yU}\n",
    "print(opD)"
   ]
  },
  {
   "cell_type": "code",
   "execution_count": null,
   "id": "1a8e506c",
   "metadata": {},
   "outputs": [
    {
     "data": {
      "text/plain": [
       "0"
      ]
     },
     "execution_count": 128,
     "metadata": {},
     "output_type": "execute_result"
    }
   ],
   "source": [
    "ys = [op for op in all_ops_list if op.startswith('y')]\n",
    "yU = set(ys)\n",
    "len(yU)"
   ]
  },
  {
   "cell_type": "code",
   "execution_count": null,
   "id": "6b9e7242",
   "metadata": {},
   "outputs": [
    {
     "data": {
      "text/plain": [
       "312"
      ]
     },
     "execution_count": 129,
     "metadata": {},
     "output_type": "execute_result"
    }
   ],
   "source": [
    "len(b2d)"
   ]
  },
  {
   "cell_type": "code",
   "execution_count": null,
   "id": "0f4f6d62",
   "metadata": {},
   "outputs": [
    {
     "data": {
      "text/plain": [
       "90"
      ]
     },
     "execution_count": 130,
     "metadata": {},
     "output_type": "execute_result"
    }
   ],
   "source": [
    "lines4 = lines[91:]\n",
    "sum([ele[:ele.index('->')].count('y') for ele in lines4])"
   ]
  },
  {
   "cell_type": "code",
   "execution_count": null,
   "id": "07fea231",
   "metadata": {},
   "outputs": [
    {
     "data": {
      "text/plain": [
       "['bcp AND rgc -> pbh', 'bcp XOR rgc -> z08']"
      ]
     },
     "execution_count": 131,
     "metadata": {},
     "output_type": "execute_result"
    }
   ],
   "source": [
    "[line for line in lines4 if 'rgc' in line[:line.index('->')]]"
   ]
  },
  {
   "cell_type": "code",
   "execution_count": null,
   "id": "48a58af9",
   "metadata": {},
   "outputs": [],
   "source": []
  }
 ],
 "metadata": {
  "kernelspec": {
   "display_name": "venv",
   "language": "python",
   "name": "python3"
  },
  "language_info": {
   "codemirror_mode": {
    "name": "ipython",
    "version": 3
   },
   "file_extension": ".py",
   "mimetype": "text/x-python",
   "name": "python",
   "nbconvert_exporter": "python",
   "pygments_lexer": "ipython3",
   "version": "3.13.2"
  }
 },
 "nbformat": 4,
 "nbformat_minor": 5
}
