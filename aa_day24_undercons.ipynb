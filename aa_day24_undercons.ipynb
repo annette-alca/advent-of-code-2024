{
 "cells": [
  {
   "cell_type": "markdown",
   "id": "78622b81",
   "metadata": {},
   "source": [
    "My solution to https://adventofcode.com/2024/day/24, titled Crossed Wires.\n",
    "\n",
    "This problem involves AND, OR, XOR calculations and conversion from binary to decimal.\n",
    "\n",
    "My <ins>Part 1</ins> solution involves a recursive function `get_more_b2_dict_items` to get values from all the input lines, which can't be performed in order (some operator values aren't available when they are needed in the text file). Finally, all the z outputs are added up.\n",
    "\n",
    "<ins>Part 2</ins> involves finding 4 pairs of different input gates, whose values need swapping in order to change the value of 10 different z output gates. This requires finding 8 input gates that lead to the 10 z gates. \n",
    "\n",
    "-Annette"
   ]
  },
  {
   "cell_type": "markdown",
   "id": "a43a9c32",
   "metadata": {},
   "source": [
    "<!-- My solution to https://adventofcode.com/2024/day/24, called Crossed Wires.\n",
    "\n",
    "Uses AND, OR, XOR methods and binary numbers.\n",
    "\n",
    "-Annette -->"
   ]
  },
  {
   "cell_type": "code",
   "execution_count": 1,
   "id": "d2455f98",
   "metadata": {},
   "outputs": [],
   "source": [
    "# open puzzle input and get information\n",
    "with open ('day24_input.txt', 'r') as f:\n",
    "    lines = f.read().splitlines()\n"
   ]
  },
  {
   "cell_type": "code",
   "execution_count": 2,
   "id": "ba74bbbe",
   "metadata": {},
   "outputs": [],
   "source": [
    "#Part 1 Functions\n",
    "\n",
    "b2d = {} #short for binary dictionary\n",
    "\n",
    "def get_b2_dict(lines:list): \n",
    "    '''create dictionary of strings and binary values up to line 89 of input'''\n",
    "    global b2d\n",
    "    for l in lines[:90]:\n",
    "        key,val = l.split(': ')\n",
    "        b2d[key] = int(val)\n",
    "\n",
    "def operation(line:str):\n",
    "    '''performs &,or,^ operations and assigns value to designated key '''\n",
    "    global b2d\n",
    "    val1, op, val2, arrow, val3 = line.split()\n",
    "    if op == 'AND':\n",
    "        b2d[val3] = b2d[val1] & b2d[val2]\n",
    "    elif op == 'OR':\n",
    "        b2d[val3] = b2d[val1] or b2d[val2]\n",
    "    else:\n",
    "        b2d[val3] = b2d[val1] ^ b2d[val2]\n",
    "\n",
    "def get_more_b2_dict_items(op_list:list):\n",
    "    '''a recursive function to get all values in all operations'''\n",
    "    global b2d\n",
    "    for line in op_list:\n",
    "        try:\n",
    "            operation(line)\n",
    "            op_list.remove(line)\n",
    "        except KeyError:\n",
    "            continue\n",
    "    if len(op_list) == 0:\n",
    "        return True\n",
    "    return get_more_b2_dict_items(op_list)\n",
    "\n",
    "def b2_dict_to_b10_value(b2z:dict):\n",
    "    '''convert dictionary of z values to decimal number'''\n",
    "    b10_total = 0\n",
    "    for key in b2z:\n",
    "        exponent = int(key[1:])\n",
    "        b10_total += b2z[key] * 2**exponent\n",
    "    return b10_total"
   ]
  },
  {
   "cell_type": "code",
   "execution_count": 3,
   "id": "eefac712",
   "metadata": {},
   "outputs": [
    {
     "name": "stdout",
     "output_type": "stream",
     "text": [
      "Part 1 Answer: 65740327379952\n"
     ]
    }
   ],
   "source": [
    "#Part 1 solution\n",
    "lines3 = lines[91:]\n",
    "get_b2_dict(lines[:])\n",
    "completed = get_more_b2_dict_items(lines3)\n",
    "if completed:\n",
    "    b2z = {key:b2d[key] for key in b2d.keys() if key.startswith('z')}\n",
    "answer1 = b2_dict_to_b10_value(b2z)\n",
    "print(f'Part 1 Answer: {answer1}')"
   ]
  },
  {
   "cell_type": "code",
   "execution_count": 85,
   "id": "94a96441",
   "metadata": {},
   "outputs": [],
   "source": [
    "#Part2 Function\n",
    "def b2_dict_find_diff(b2z:dict, exz:list):\n",
    "    diffs = []\n",
    "    for key in b2z:\n",
    "        position = len(exz)-1-int(key[1:])\n",
    "        if b2z[key] != int(exz[position]):\n",
    "            diffs.append(key)\n",
    "    return sorted(diffs)\n",
    "\n",
    "def get_operators(val3_list, lines, operators):\n",
    "    '''\n",
    "    args:\n",
    "    val3_list: list or set of final values\n",
    "    lines: lines from original text where operations are listed\n",
    "    operators: initially empty dictionary, but will be populated by returned operators as this function can be used in a loop\n",
    "\n",
    "    returns:\n",
    "        operators : dictionary of operators for values in val3_list\n",
    "        endpoints: list of values in val3 that have no operators'''\n",
    "    global b2d\n",
    "    endpoints = []\n",
    "    newvals = []\n",
    "    for v3 in val3_list:\n",
    "        found = False\n",
    "        for l in lines:\n",
    "            val1, op, val2, arrow, val3 = l.split()\n",
    "            if v3 == val3:\n",
    "                operators[val1] = operators.get(val1,0) + 1\n",
    "                operators[val2] = operators.get(val2,0) + 1\n",
    "                newvals.append(val1)\n",
    "                newvals.append(val2)\n",
    "                found = True\n",
    "                break\n",
    "        if not found:\n",
    "            endpoints.append(v3)\n",
    "    return set(newvals), operators, endpoints\n",
    "    "
   ]
  },
  {
   "cell_type": "code",
   "execution_count": 86,
   "id": "b65c32d8",
   "metadata": {},
   "outputs": [
    {
     "name": "stdout",
     "output_type": "stream",
     "text": [
      "List of z gates that need swapping: ['z07', 'z08', 'z09', 'z10', 'z24', 'z25', 'z26', 'z31', 'z32', 'z33'].\n",
      "There are 10 z gates.\n"
     ]
    }
   ],
   "source": [
    "#Part2A Solution\n",
    "b2x = {key:b2d[key] for key in b2d.keys() if key.startswith('x')}\n",
    "b2y = {key:b2d[key] for key in b2d.keys() if key.startswith('y')}\n",
    "\n",
    "#sum of x values and y values, then convert this to binary, convert the resulting number to a list of 46 positions\n",
    "expectedz = b2_dict_to_b10_value(b2x) + b2_dict_to_b10_value(b2y)\n",
    "exz = list(bin(expectedz))[2:]\n",
    "diffs = b2_dict_find_diff(b2z, exz)\n",
    "print(f\"List of z gates that need swapping: {diffs}.\\nThere are {len(diffs)} z gates.\")\n",
    "\n",
    "\n",
    "\n",
    "\n"
   ]
  },
  {
   "cell_type": "code",
   "execution_count": 97,
   "id": "1513fcac",
   "metadata": {},
   "outputs": [
    {
     "name": "stdout",
     "output_type": "stream",
     "text": [
      "0 {'ktp', 'gvs', 'vgm', 'rgc', 'y07', 'ddq', 'hnw', 'djr', 'bcp', 'vdd', 'chd', 'ggd', 'vpv', 'x07', 'rjm', 'kqk', 'pmm', 'dfm', 'dgk', 'mrp'}\n",
      "ended []\n",
      "ops {'x07': 1, 'y07': 1, 'bcp': 1, 'rgc': 1, 'vpv': 1, 'ddq': 1, 'ggd': 1, 'dfm': 1, 'ktp': 1, 'rjm': 1, 'gvs': 1, 'hnw': 1, 'pmm': 1, 'vgm': 1, 'kqk': 1, 'djr': 1, 'vdd': 1, 'dgk': 1, 'chd': 1, 'mrp': 1} \n",
      "\n",
      "1 {'y26', 'x25', 'bjr', 'y31', 'vdr', 'y10', 'ghb', 'nnh', 'htq', 'x24', 'x09', 'bgs', 'y32', 'pwn', 'x08', 'x32', 'wdr', 'y33', 'dkd', 'x26', 'cwb', 'y09', 'y08', 'x31', 'cms', 'hcg', 'htn', 'swt', 'dvp', 'y24', 'pbh', 'wsv', 'x10', 'y25', 'qdw', 'x33'}\n",
      "ended ['y07', 'x07']\n",
      "ops {'x07': 1, 'y07': 1, 'bcp': 1, 'rgc': 1, 'vpv': 1, 'ddq': 1, 'ggd': 1, 'dfm': 1, 'ktp': 1, 'rjm': 1, 'gvs': 1, 'hnw': 1, 'pmm': 1, 'vgm': 1, 'kqk': 1, 'djr': 1, 'vdd': 1, 'dgk': 1, 'chd': 1, 'mrp': 1, 'cms': 1, 'qdw': 1, 'wsv': 1, 'pwn': 1, 'y26': 1, 'x26': 1, 'swt': 1, 'ghb': 1, 'pbh': 1, 'htn': 1, 'x25': 1, 'y25': 1, 'hcg': 1, 'cwb': 1, 'x08': 1, 'y08': 1, 'bgs': 1, 'dvp': 1, 'wdr': 1, 'htq': 1, 'x10': 1, 'y10': 1, 'y09': 1, 'x09': 1, 'x24': 1, 'y24': 1, 'x31': 1, 'y31': 1, 'vdr': 1, 'dkd': 1, 'nnh': 1, 'bjr': 1, 'x32': 1, 'y32': 1, 'y33': 1, 'x33': 1} \n",
      "\n",
      "2 {'ktp', 'x25', 'gvs', 'fdm', 'y30', 'y31', 'rvc', 'x30', 'x23', 'x24', 'msm', 'rgc', 'x09', 'ddq', 'hnw', 'y32', 'pgt', 'djr', 'bcp', 'x08', 'x32', 'vdd', 'y09', 'y08', 'x31', 'vpv', 'y24', 'rjm', 'kpv', 'kqk', 'y23', 'hbv', 'y25', 'dgk'}\n",
      "ended ['y26', 'x25', 'y31', 'y10', 'x24', 'x09', 'y32', 'x08', 'x32', 'y33', 'x26', 'y09', 'y08', 'x31', 'y24', 'x10', 'y25', 'x33']\n",
      "ops {'x07': 1, 'y07': 1, 'bcp': 2, 'rgc': 2, 'vpv': 2, 'ddq': 2, 'ggd': 1, 'dfm': 1, 'ktp': 2, 'rjm': 2, 'gvs': 2, 'hnw': 2, 'pmm': 1, 'vgm': 1, 'kqk': 2, 'djr': 2, 'vdd': 2, 'dgk': 2, 'chd': 1, 'mrp': 1, 'cms': 1, 'qdw': 1, 'wsv': 1, 'pwn': 1, 'y26': 1, 'x26': 1, 'swt': 1, 'ghb': 1, 'pbh': 1, 'htn': 1, 'x25': 2, 'y25': 2, 'hcg': 1, 'cwb': 1, 'x08': 2, 'y08': 2, 'bgs': 1, 'dvp': 1, 'wdr': 1, 'htq': 1, 'x10': 1, 'y10': 1, 'y09': 2, 'x09': 2, 'x24': 2, 'y24': 2, 'x31': 2, 'y31': 2, 'vdr': 1, 'dkd': 1, 'nnh': 1, 'bjr': 1, 'x32': 2, 'y32': 2, 'y33': 1, 'x33': 1, 'rvc': 2, 'kpv': 2, 'msm': 1, 'fdm': 1, 'y23': 1, 'x23': 1, 'x30': 1, 'y30': 1, 'pgt': 1, 'hbv': 1} \n",
      "\n",
      "3 {'y30', 'x25', 'fmg', 'y31', 'ghb', 'x30', 'x24', 'x23', 'x09', 'y07', 'bgs', 'cth', 'y32', 'pwn', 'mwg', 'x08', 'x32', 'dgm', 'cwb', 'cfw', 'y08', 'y09', 'x31', 'cms', 'hcg', 'x07', 'htn', 'swt', 'dvp', 'y24', 'pbh', 'wsv', 'y23', 'y25', 'qdw', 'cjw'}\n",
      "ended ['x25', 'y30', 'y31', 'x30', 'x23', 'x24', 'x09', 'y32', 'x08', 'x32', 'y09', 'y08', 'x31', 'y24', 'y23', 'y25']\n",
      "ops {'x07': 2, 'y07': 2, 'bcp': 2, 'rgc': 2, 'vpv': 2, 'ddq': 2, 'ggd': 1, 'dfm': 1, 'ktp': 2, 'rjm': 2, 'gvs': 2, 'hnw': 2, 'pmm': 1, 'vgm': 1, 'kqk': 2, 'djr': 2, 'vdd': 2, 'dgk': 2, 'chd': 1, 'mrp': 1, 'cms': 2, 'qdw': 2, 'wsv': 2, 'pwn': 2, 'y26': 1, 'x26': 1, 'swt': 2, 'ghb': 2, 'pbh': 2, 'htn': 2, 'x25': 3, 'y25': 3, 'hcg': 2, 'cwb': 2, 'x08': 3, 'y08': 3, 'bgs': 2, 'dvp': 2, 'wdr': 1, 'htq': 1, 'x10': 1, 'y10': 1, 'y09': 3, 'x09': 3, 'x24': 3, 'y24': 3, 'x31': 3, 'y31': 3, 'vdr': 1, 'dkd': 1, 'nnh': 1, 'bjr': 1, 'x32': 3, 'y32': 3, 'y33': 1, 'x33': 1, 'rvc': 2, 'kpv': 2, 'msm': 1, 'fdm': 1, 'y23': 2, 'x23': 2, 'x30': 2, 'y30': 2, 'pgt': 1, 'hbv': 1, 'cfw': 1, 'mwg': 1, 'dgm': 1, 'cth': 1, 'fmg': 1, 'cjw': 1} \n",
      "\n",
      "4 {'ktp', 'fdm', 'y30', 'y31', 'rvc', 'x30', 'pms', 'x23', 'x24', 'msm', 'rgc', 'y22', 'vgj', 'x06', 'pgt', 'djr', 'bcp', 'x08', 'psj', 'y08', 'x31', 'y29', 'qgc', 'y24', 'qbn', 'x29', 'rjm', 'kpv', 'kqk', 'x22', 'y23', 'hbv', 'kfh', 'y06'}\n",
      "ended ['y30', 'x25', 'y31', 'x30', 'x24', 'x23', 'x09', 'y07', 'y32', 'x08', 'x32', 'y08', 'y09', 'x31', 'x07', 'y24', 'y23', 'y25']\n",
      "ops {'x07': 2, 'y07': 2, 'bcp': 3, 'rgc': 3, 'vpv': 2, 'ddq': 2, 'ggd': 1, 'dfm': 1, 'ktp': 3, 'rjm': 3, 'gvs': 2, 'hnw': 2, 'pmm': 1, 'vgm': 1, 'kqk': 3, 'djr': 3, 'vdd': 2, 'dgk': 2, 'chd': 1, 'mrp': 1, 'cms': 2, 'qdw': 2, 'wsv': 2, 'pwn': 2, 'y26': 1, 'x26': 1, 'swt': 2, 'ghb': 2, 'pbh': 2, 'htn': 2, 'x25': 3, 'y25': 3, 'hcg': 2, 'cwb': 2, 'x08': 4, 'y08': 4, 'bgs': 2, 'dvp': 2, 'wdr': 1, 'htq': 1, 'x10': 1, 'y10': 1, 'y09': 3, 'x09': 3, 'x24': 4, 'y24': 4, 'x31': 4, 'y31': 4, 'vdr': 1, 'dkd': 1, 'nnh': 1, 'bjr': 1, 'x32': 3, 'y32': 3, 'y33': 1, 'x33': 1, 'rvc': 4, 'kpv': 4, 'msm': 2, 'fdm': 2, 'y23': 3, 'x23': 3, 'x30': 3, 'y30': 3, 'pgt': 2, 'hbv': 2, 'cfw': 1, 'mwg': 1, 'dgm': 1, 'cth': 1, 'fmg': 1, 'cjw': 1, 'x22': 1, 'y22': 1, 'psj': 1, 'qbn': 1, 'y06': 1, 'x06': 1, 'x29': 1, 'y29': 1, 'qgc': 1, 'kfh': 1, 'vgj': 1, 'pms': 1} \n",
      "\n",
      "5 {'y30', 'mcs', 'fmg', 'y31', 'ghb', 'x30', 'vjb', 'x24', 'x23', 'y07', 'y22', 'cth', 'x06', 'mwg', 'jsj', 'mrt', 'x08', 'dgm', 'cwb', 'cfw', 'y08', 'x31', 'cms', 'hcg', 'y29', 'djt', 'x07', 'swt', 'y24', 'sbf', 'x29', 'x22', 'y23', 'y06', 'qdw', 'cjw'}\n",
      "ended ['y30', 'y31', 'x30', 'x23', 'x24', 'y22', 'x06', 'x08', 'y08', 'x31', 'y29', 'y24', 'x29', 'x22', 'y23', 'y06']\n",
      "ops {'x07': 3, 'y07': 3, 'bcp': 3, 'rgc': 3, 'vpv': 2, 'ddq': 2, 'ggd': 1, 'dfm': 1, 'ktp': 3, 'rjm': 3, 'gvs': 2, 'hnw': 2, 'pmm': 1, 'vgm': 1, 'kqk': 3, 'djr': 3, 'vdd': 2, 'dgk': 2, 'chd': 1, 'mrp': 1, 'cms': 3, 'qdw': 3, 'wsv': 2, 'pwn': 2, 'y26': 1, 'x26': 1, 'swt': 3, 'ghb': 3, 'pbh': 2, 'htn': 2, 'x25': 3, 'y25': 3, 'hcg': 3, 'cwb': 3, 'x08': 5, 'y08': 5, 'bgs': 2, 'dvp': 2, 'wdr': 1, 'htq': 1, 'x10': 1, 'y10': 1, 'y09': 3, 'x09': 3, 'x24': 5, 'y24': 5, 'x31': 5, 'y31': 5, 'vdr': 1, 'dkd': 1, 'nnh': 1, 'bjr': 1, 'x32': 3, 'y32': 3, 'y33': 1, 'x33': 1, 'rvc': 4, 'kpv': 4, 'msm': 2, 'fdm': 2, 'y23': 4, 'x23': 4, 'x30': 4, 'y30': 4, 'pgt': 2, 'hbv': 2, 'cfw': 2, 'mwg': 2, 'dgm': 2, 'cth': 2, 'fmg': 2, 'cjw': 2, 'x22': 2, 'y22': 2, 'psj': 1, 'qbn': 1, 'y06': 2, 'x06': 2, 'x29': 2, 'y29': 2, 'qgc': 1, 'kfh': 1, 'vgj': 1, 'pms': 1, 'mcs': 1, 'jsj': 1, 'vjb': 1, 'mrt': 1, 'djt': 1, 'sbf': 1} \n",
      "\n",
      "6 {'vdb', 'y30', 'fdm', 'x28', 'rvc', 'x30', 'tmr', 'pms', 'x23', 'msm', 'pnf', 'y22', 'vgj', 'x06', 'y21', 'cbv', 'pgt', 'qqt', 'y05', 'x05', 'x21', 'nnt', 'psj', 'y29', 'qgc', 'qbn', 'x29', 'kpv', 'y28', 'x22', 'y23', 'hbv', 'kfh', 'y06'}\n",
      "ended ['y30', 'y31', 'x30', 'x24', 'x23', 'y07', 'y22', 'x06', 'x08', 'y08', 'x31', 'y29', 'x07', 'y24', 'x29', 'x22', 'y23', 'y06']\n",
      "ops {'x07': 3, 'y07': 3, 'bcp': 3, 'rgc': 3, 'vpv': 2, 'ddq': 2, 'ggd': 1, 'dfm': 1, 'ktp': 3, 'rjm': 3, 'gvs': 2, 'hnw': 2, 'pmm': 1, 'vgm': 1, 'kqk': 3, 'djr': 3, 'vdd': 2, 'dgk': 2, 'chd': 1, 'mrp': 1, 'cms': 3, 'qdw': 3, 'wsv': 2, 'pwn': 2, 'y26': 1, 'x26': 1, 'swt': 3, 'ghb': 3, 'pbh': 2, 'htn': 2, 'x25': 3, 'y25': 3, 'hcg': 3, 'cwb': 3, 'x08': 5, 'y08': 5, 'bgs': 2, 'dvp': 2, 'wdr': 1, 'htq': 1, 'x10': 1, 'y10': 1, 'y09': 3, 'x09': 3, 'x24': 5, 'y24': 5, 'x31': 5, 'y31': 5, 'vdr': 1, 'dkd': 1, 'nnh': 1, 'bjr': 1, 'x32': 3, 'y32': 3, 'y33': 1, 'x33': 1, 'rvc': 6, 'kpv': 6, 'msm': 3, 'fdm': 3, 'y23': 5, 'x23': 5, 'x30': 5, 'y30': 5, 'pgt': 3, 'hbv': 3, 'cfw': 2, 'mwg': 2, 'dgm': 2, 'cth': 2, 'fmg': 2, 'cjw': 2, 'x22': 3, 'y22': 3, 'psj': 2, 'qbn': 2, 'y06': 3, 'x06': 3, 'x29': 3, 'y29': 3, 'qgc': 2, 'kfh': 2, 'vgj': 2, 'pms': 2, 'mcs': 1, 'jsj': 1, 'vjb': 1, 'mrt': 1, 'djt': 1, 'sbf': 1, 'nnt': 1, 'cbv': 1, 'y28': 1, 'x28': 1, 'x21': 1, 'y21': 1, 'qqt': 1, 'vdb': 1, 'pnf': 1, 'tmr': 1, 'x05': 1, 'y05': 1} \n",
      "\n",
      "7 {'y30', 'pbq', 'mcs', 'x28', 'mgt', 'fmg', 'x30', 'vjb', 'x23', 'dpv', 'y07', 'y22', 'cdw', 'cth', 'y21', 'x06', 'vtg', 'mwg', 'y05', 'jsj', 'mrt', 'x05', 'x21', 'dgm', 'cfw', 'y29', 'djt', 'x07', 'sbf', 'x29', 'y28', 'x22', 'y23', 'ccp', 'y06', 'cjw'}\n",
      "ended ['y30', 'x28', 'x30', 'x23', 'y22', 'x06', 'y21', 'y05', 'x05', 'x21', 'y29', 'x29', 'y28', 'x22', 'y23', 'y06']\n",
      "ops {'x07': 4, 'y07': 4, 'bcp': 3, 'rgc': 3, 'vpv': 2, 'ddq': 2, 'ggd': 1, 'dfm': 1, 'ktp': 3, 'rjm': 3, 'gvs': 2, 'hnw': 2, 'pmm': 1, 'vgm': 1, 'kqk': 3, 'djr': 3, 'vdd': 2, 'dgk': 2, 'chd': 1, 'mrp': 1, 'cms': 3, 'qdw': 3, 'wsv': 2, 'pwn': 2, 'y26': 1, 'x26': 1, 'swt': 3, 'ghb': 3, 'pbh': 2, 'htn': 2, 'x25': 3, 'y25': 3, 'hcg': 3, 'cwb': 3, 'x08': 5, 'y08': 5, 'bgs': 2, 'dvp': 2, 'wdr': 1, 'htq': 1, 'x10': 1, 'y10': 1, 'y09': 3, 'x09': 3, 'x24': 5, 'y24': 5, 'x31': 5, 'y31': 5, 'vdr': 1, 'dkd': 1, 'nnh': 1, 'bjr': 1, 'x32': 3, 'y32': 3, 'y33': 1, 'x33': 1, 'rvc': 6, 'kpv': 6, 'msm': 3, 'fdm': 3, 'y23': 6, 'x23': 6, 'x30': 6, 'y30': 6, 'pgt': 3, 'hbv': 3, 'cfw': 3, 'mwg': 3, 'dgm': 3, 'cth': 3, 'fmg': 3, 'cjw': 3, 'x22': 4, 'y22': 4, 'psj': 2, 'qbn': 2, 'y06': 4, 'x06': 4, 'x29': 4, 'y29': 4, 'qgc': 2, 'kfh': 2, 'vgj': 2, 'pms': 2, 'mcs': 2, 'jsj': 2, 'vjb': 2, 'mrt': 2, 'djt': 2, 'sbf': 2, 'nnt': 1, 'cbv': 1, 'y28': 2, 'x28': 2, 'x21': 2, 'y21': 2, 'qqt': 1, 'vdb': 1, 'pnf': 1, 'tmr': 1, 'x05': 2, 'y05': 2, 'cdw': 1, 'mgt': 1, 'pbq': 1, 'dpv': 1, 'ccp': 1, 'vtg': 1} \n",
      "\n",
      "8 {'vdb', 'x28', 'y20', 'tmr', 'pms', 'x04', 'rtm', 'y04', 'pnf', 'y22', 'vgj', 'x06', 'y21', 'cbv', 'qqt', 'rkw', 'gnd', 'y05', 'x05', 'x20', 'x21', 'nnt', 'psj', 'cdb', 'y29', 'qgc', 'qbn', 'x29', 'y28', 'x22', 'shk', 'ddh', 'kfh', 'y06', 'y27', 'x27'}\n",
      "ended ['y30', 'x28', 'x30', 'x23', 'y07', 'y22', 'y21', 'x06', 'y05', 'x05', 'x21', 'y29', 'x07', 'x29', 'y28', 'x22', 'y23', 'y06']\n",
      "ops {'x07': 4, 'y07': 4, 'bcp': 3, 'rgc': 3, 'vpv': 2, 'ddq': 2, 'ggd': 1, 'dfm': 1, 'ktp': 3, 'rjm': 3, 'gvs': 2, 'hnw': 2, 'pmm': 1, 'vgm': 1, 'kqk': 3, 'djr': 3, 'vdd': 2, 'dgk': 2, 'chd': 1, 'mrp': 1, 'cms': 3, 'qdw': 3, 'wsv': 2, 'pwn': 2, 'y26': 1, 'x26': 1, 'swt': 3, 'ghb': 3, 'pbh': 2, 'htn': 2, 'x25': 3, 'y25': 3, 'hcg': 3, 'cwb': 3, 'x08': 5, 'y08': 5, 'bgs': 2, 'dvp': 2, 'wdr': 1, 'htq': 1, 'x10': 1, 'y10': 1, 'y09': 3, 'x09': 3, 'x24': 5, 'y24': 5, 'x31': 5, 'y31': 5, 'vdr': 1, 'dkd': 1, 'nnh': 1, 'bjr': 1, 'x32': 3, 'y32': 3, 'y33': 1, 'x33': 1, 'rvc': 6, 'kpv': 6, 'msm': 3, 'fdm': 3, 'y23': 6, 'x23': 6, 'x30': 6, 'y30': 6, 'pgt': 3, 'hbv': 3, 'cfw': 3, 'mwg': 3, 'dgm': 3, 'cth': 3, 'fmg': 3, 'cjw': 3, 'x22': 5, 'y22': 5, 'psj': 3, 'qbn': 3, 'y06': 5, 'x06': 5, 'x29': 5, 'y29': 5, 'qgc': 3, 'kfh': 3, 'vgj': 3, 'pms': 3, 'mcs': 2, 'jsj': 2, 'vjb': 2, 'mrt': 2, 'djt': 2, 'sbf': 2, 'nnt': 2, 'cbv': 2, 'y28': 3, 'x28': 3, 'x21': 3, 'y21': 3, 'qqt': 2, 'vdb': 2, 'pnf': 2, 'tmr': 2, 'x05': 3, 'y05': 3, 'cdw': 1, 'mgt': 1, 'pbq': 1, 'dpv': 1, 'ccp': 1, 'vtg': 1, 'rkw': 1, 'shk': 1, 'x27': 1, 'y27': 1, 'x04': 1, 'y04': 1, 'cdb': 1, 'rtm': 1, 'gnd': 1, 'ddh': 1, 'y20': 1, 'x20': 1} \n",
      "\n",
      "9 {'pbq', 'mcs', 'x28', 'mgt', 'y20', 'vjb', 'x04', 'dpv', 'y04', 'y22', 'cdw', 'y21', 'x06', 'vtg', 'y05', 'jsj', 'mrt', 'x05', 'x20', 'x21', 'btc', 'nmm', 'pvw', 'y29', 'djt', 'sbf', 'x29', 'sbq', 'y28', 'x22', 'ccp', 'dmw', 'y06', 'rhn', 'y27', 'x27'}\n",
      "ended ['x28', 'y20', 'x04', 'y04', 'y22', 'x06', 'y21', 'y05', 'x05', 'x20', 'x21', 'y29', 'x29', 'y28', 'x22', 'y06', 'y27', 'x27']\n",
      "ops {'x07': 4, 'y07': 4, 'bcp': 3, 'rgc': 3, 'vpv': 2, 'ddq': 2, 'ggd': 1, 'dfm': 1, 'ktp': 3, 'rjm': 3, 'gvs': 2, 'hnw': 2, 'pmm': 1, 'vgm': 1, 'kqk': 3, 'djr': 3, 'vdd': 2, 'dgk': 2, 'chd': 1, 'mrp': 1, 'cms': 3, 'qdw': 3, 'wsv': 2, 'pwn': 2, 'y26': 1, 'x26': 1, 'swt': 3, 'ghb': 3, 'pbh': 2, 'htn': 2, 'x25': 3, 'y25': 3, 'hcg': 3, 'cwb': 3, 'x08': 5, 'y08': 5, 'bgs': 2, 'dvp': 2, 'wdr': 1, 'htq': 1, 'x10': 1, 'y10': 1, 'y09': 3, 'x09': 3, 'x24': 5, 'y24': 5, 'x31': 5, 'y31': 5, 'vdr': 1, 'dkd': 1, 'nnh': 1, 'bjr': 1, 'x32': 3, 'y32': 3, 'y33': 1, 'x33': 1, 'rvc': 6, 'kpv': 6, 'msm': 3, 'fdm': 3, 'y23': 6, 'x23': 6, 'x30': 6, 'y30': 6, 'pgt': 3, 'hbv': 3, 'cfw': 3, 'mwg': 3, 'dgm': 3, 'cth': 3, 'fmg': 3, 'cjw': 3, 'x22': 6, 'y22': 6, 'psj': 3, 'qbn': 3, 'y06': 6, 'x06': 6, 'x29': 6, 'y29': 6, 'qgc': 3, 'kfh': 3, 'vgj': 3, 'pms': 3, 'mcs': 3, 'jsj': 3, 'vjb': 3, 'mrt': 3, 'djt': 3, 'sbf': 3, 'nnt': 2, 'cbv': 2, 'y28': 4, 'x28': 4, 'x21': 4, 'y21': 4, 'qqt': 2, 'vdb': 2, 'pnf': 2, 'tmr': 2, 'x05': 4, 'y05': 4, 'cdw': 2, 'mgt': 2, 'pbq': 2, 'dpv': 2, 'ccp': 2, 'vtg': 2, 'rkw': 1, 'shk': 1, 'x27': 2, 'y27': 2, 'x04': 2, 'y04': 2, 'cdb': 1, 'rtm': 1, 'gnd': 1, 'ddh': 1, 'y20': 2, 'x20': 2, 'dmw': 1, 'sbq': 1, 'rhn': 1, 'nmm': 1, 'btc': 1, 'pvw': 1} \n",
      "\n",
      "{'kpv': 2, 'rvc': 2, 'bcp': 1, 'rgc': 1, 'x08': 1, 'y08': 1, 'x09': 1, 'y09': 1, 'vpv': 1, 'ddq': 1, 'y23': 1, 'x23': 1, 'pgt': 1, 'hbv': 1, 'y24': 1, 'x24': 1, 'rjm': 1, 'ktp': 1, 'hnw': 1, 'gvs': 1, 'x25': 1, 'y25': 1, 'x30': 1, 'y30': 1, 'msm': 1, 'fdm': 1, 'djr': 1, 'kqk': 1, 'x31': 1, 'y31': 1, 'vdd': 1, 'dgk': 1, 'x32': 1, 'y32': 1}\n"
     ]
    }
   ],
   "source": [
    "#Finding 8 that lead to the 10\n",
    "\n",
    "temp_vals = diffs[:]\n",
    "counter=0\n",
    "ops = {}\n",
    "\n",
    "while counter<10:\n",
    "#not all([op.startswith('x') or op.startswith('y') for op in temp_ops]):\n",
    "    temp_vals, ops, endpoints = get_operators(temp_vals, lines[91:], ops)\n",
    "    print(counter, temp_vals)\n",
    "    print('ended', endpoints)\n",
    "    print('ops', ops,'\\n')\n",
    "    counter +=1\n",
    "# print(len(all_ops_list))\n",
    "print(temp_ops)"
   ]
  },
  {
   "cell_type": "code",
   "execution_count": 98,
   "id": "1ca76ee6",
   "metadata": {},
   "outputs": [
    {
     "name": "stdout",
     "output_type": "stream",
     "text": [
      "Part 2 Answer: bcp,ddq,dgk,djr,fdm,gvs,hbv,hnw,kpv,kqk,ktp,msm,pgt,rgc,rjm,rvc,vdd,vpv,x08,x09,x23,x24,x25,x30,x31,x32,y08,y09,y23,y24,y25,y30,y31,y32\n"
     ]
    }
   ],
   "source": [
    "to = list(temp_ops.keys())\n",
    "to.sort()\n",
    "ans2 = ','.join(to)\n",
    "print(f\"Part 2 Answer: {ans2}\")"
   ]
  },
  {
   "cell_type": "code",
   "execution_count": 99,
   "id": "36758672",
   "metadata": {},
   "outputs": [
    {
     "name": "stdout",
     "output_type": "stream",
     "text": [
      "{}\n"
     ]
    }
   ],
   "source": [
    "opD = {op:all_ops_list.count(op) for op in yU}\n",
    "print(opD)"
   ]
  },
  {
   "cell_type": "code",
   "execution_count": 100,
   "id": "1a8e506c",
   "metadata": {},
   "outputs": [
    {
     "data": {
      "text/plain": [
       "0"
      ]
     },
     "execution_count": 100,
     "metadata": {},
     "output_type": "execute_result"
    }
   ],
   "source": [
    "ys = [op for op in all_ops_list if op.startswith('y')]\n",
    "yU = set(ys)\n",
    "len(yU)"
   ]
  },
  {
   "cell_type": "code",
   "execution_count": 101,
   "id": "6b9e7242",
   "metadata": {},
   "outputs": [
    {
     "data": {
      "text/plain": [
       "312"
      ]
     },
     "execution_count": 101,
     "metadata": {},
     "output_type": "execute_result"
    }
   ],
   "source": [
    "len(b2d)"
   ]
  },
  {
   "cell_type": "code",
   "execution_count": 102,
   "id": "0f4f6d62",
   "metadata": {},
   "outputs": [
    {
     "data": {
      "text/plain": [
       "90"
      ]
     },
     "execution_count": 102,
     "metadata": {},
     "output_type": "execute_result"
    }
   ],
   "source": [
    "lines4 = lines[91:]\n",
    "sum([ele[:ele.index('->')].count('y') for ele in lines4])"
   ]
  },
  {
   "cell_type": "code",
   "execution_count": 107,
   "id": "07fea231",
   "metadata": {},
   "outputs": [
    {
     "data": {
      "text/plain": [
       "['bcp AND rgc -> pbh', 'bcp XOR rgc -> z08']"
      ]
     },
     "execution_count": 107,
     "metadata": {},
     "output_type": "execute_result"
    }
   ],
   "source": [
    "[line for line in lines4 if 'rgc' in line[:line.index('->')]]"
   ]
  },
  {
   "cell_type": "code",
   "execution_count": 104,
   "id": "b5eccfb1",
   "metadata": {},
   "outputs": [
    {
     "data": {
      "text/plain": [
       "['x40: 0',\n",
       " 'x41: 1',\n",
       " 'x42: 1',\n",
       " 'x43: 1',\n",
       " 'x44: 1',\n",
       " 'y00: 1',\n",
       " 'y01: 0',\n",
       " 'y02: 1',\n",
       " 'y03: 1',\n",
       " 'y04: 0']"
      ]
     },
     "execution_count": 104,
     "metadata": {},
     "output_type": "execute_result"
    }
   ],
   "source": [
    "lines[40:50]"
   ]
  },
  {
   "cell_type": "code",
   "execution_count": 105,
   "id": "d5b1abab",
   "metadata": {},
   "outputs": [
    {
     "data": {
      "text/plain": [
       "{'kpv': 2,\n",
       " 'rvc': 2,\n",
       " 'bcp': 1,\n",
       " 'rgc': 1,\n",
       " 'x08': 1,\n",
       " 'y08': 1,\n",
       " 'x09': 1,\n",
       " 'y09': 1,\n",
       " 'vpv': 1,\n",
       " 'ddq': 1,\n",
       " 'y23': 1,\n",
       " 'x23': 1,\n",
       " 'pgt': 1,\n",
       " 'hbv': 1,\n",
       " 'y24': 1,\n",
       " 'x24': 1,\n",
       " 'rjm': 1,\n",
       " 'ktp': 1,\n",
       " 'hnw': 1,\n",
       " 'gvs': 1,\n",
       " 'x25': 1,\n",
       " 'y25': 1,\n",
       " 'x30': 1,\n",
       " 'y30': 1,\n",
       " 'msm': 1,\n",
       " 'fdm': 1,\n",
       " 'djr': 1,\n",
       " 'kqk': 1,\n",
       " 'x31': 1,\n",
       " 'y31': 1,\n",
       " 'vdd': 1,\n",
       " 'dgk': 1,\n",
       " 'x32': 1,\n",
       " 'y32': 1}"
      ]
     },
     "execution_count": 105,
     "metadata": {},
     "output_type": "execute_result"
    }
   ],
   "source": [
    "temp_ops"
   ]
  },
  {
   "cell_type": "code",
   "execution_count": 106,
   "id": "43dfda76",
   "metadata": {},
   "outputs": [
    {
     "ename": "NameError",
     "evalue": "name 'op_level2' is not defined",
     "output_type": "error",
     "traceback": [
      "\u001b[31m---------------------------------------------------------------------------\u001b[39m",
      "\u001b[31mNameError\u001b[39m                                 Traceback (most recent call last)",
      "\u001b[36mCell\u001b[39m\u001b[36m \u001b[39m\u001b[32mIn[106]\u001b[39m\u001b[32m, line 1\u001b[39m\n\u001b[32m----> \u001b[39m\u001b[32m1\u001b[39m \u001b[38;5;28mlen\u001b[39m(\u001b[43mop_level2\u001b[49m)\n",
      "\u001b[31mNameError\u001b[39m: name 'op_level2' is not defined"
     ]
    }
   ],
   "source": [
    "len(op_level2)"
   ]
  },
  {
   "cell_type": "code",
   "execution_count": null,
   "id": "48a58af9",
   "metadata": {},
   "outputs": [],
   "source": []
  }
 ],
 "metadata": {
  "kernelspec": {
   "display_name": "venv",
   "language": "python",
   "name": "python3"
  },
  "language_info": {
   "codemirror_mode": {
    "name": "ipython",
    "version": 3
   },
   "file_extension": ".py",
   "mimetype": "text/x-python",
   "name": "python",
   "nbconvert_exporter": "python",
   "pygments_lexer": "ipython3",
   "version": "3.13.2"
  }
 },
 "nbformat": 4,
 "nbformat_minor": 5
}
