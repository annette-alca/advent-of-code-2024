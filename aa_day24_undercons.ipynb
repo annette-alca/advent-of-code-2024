{
 "cells": [
  {
   "cell_type": "markdown",
   "id": "78622b81",
   "metadata": {},
   "source": [
    "My solution to https://adventofcode.com/2024/day/24, titled Crossed Wires.\n",
    "\n",
    "This problem involves AND, OR, XOR calculations and conversion from binary to decimal.\n",
    "My implementation involves a recursive function `collect_bin_string` to get values from all the input lines, which can't be performed in order (some operator values aren't available when they are needed in the text file).\n",
    "\n",
    "-Annette"
   ]
  },
  {
   "cell_type": "markdown",
   "id": "a43a9c32",
   "metadata": {},
   "source": [
    "<!-- My solution to https://adventofcode.com/2024/day/24, called Crossed Wires.\n",
    "\n",
    "Uses AND, OR, XOR methods and binary numbers.\n",
    "\n",
    "-Annette -->"
   ]
  },
  {
   "cell_type": "code",
   "execution_count": null,
   "id": "d2455f98",
   "metadata": {},
   "outputs": [],
   "source": [
    "# open puzzle input and get information\n",
    "with open ('day24_input.txt', 'r') as f:\n",
    "    lines = f.read().splitlines()\n",
    "\n",
    "#make a copy\n",
    "lines2 = lines[:]"
   ]
  },
  {
   "cell_type": "code",
   "execution_count": null,
   "id": "ba74bbbe",
   "metadata": {},
   "outputs": [],
   "source": [
    "#Part 1 Functions\n",
    "\n",
    "bind = {} #short for binary dictionary\n",
    "\n",
    "def get_bind(): \n",
    "    '''create dictionary of strings and binary values up to line 89 of input'''\n",
    "    global lines, bind\n",
    "    for l in lines[:90]:\n",
    "        key,val = l.split(': ')\n",
    "        bind[key] = int(val)\n",
    "\n",
    "def operation(line):\n",
    "    global bind\n",
    "    val1, op, val2, arrow, val3 = line.split()\n",
    "    if op == 'AND':\n",
    "        bind[val3] = bind[val1] & bind[val2]\n",
    "    elif op == 'OR':\n",
    "        bind[val3] = bind[val1] or bind[val2]\n",
    "    else:\n",
    "        bind[val3] = bind[val1] ^ bind[val2]\n",
    "\n",
    "def collect_bin_string(op_list):\n",
    "    '''a recursive function to get all values in all operations'''\n",
    "    global bind\n",
    "    for line in op_list:\n",
    "        try:\n",
    "            operation(line)\n",
    "            op_list.remove(line)\n",
    "        except KeyError:\n",
    "            continue\n",
    "    if len(op_list) == 0:\n",
    "        return True\n",
    "    return collect_bin_string(op_list)\n",
    "\n",
    "def convert_b2_to_b10(string):\n",
    "    revstring = string[::-1]\n",
    "    val = 0\n",
    "    for i in range(len(revstring)):\n",
    "        val += int(revstring[i])*2**i\n",
    "    return val"
   ]
  },
  {
   "cell_type": "code",
   "execution_count": 54,
   "id": "eefac712",
   "metadata": {},
   "outputs": [
    {
     "name": "stdout",
     "output_type": "stream",
     "text": [
      "Part 1 Answer: 65740327379952\n"
     ]
    }
   ],
   "source": [
    "#Part 1 solution\n",
    "lines3 = lines[:]\n",
    "\n",
    "get_bind()\n",
    "completed = collect_bin_string(lines3[91:])\n",
    "if completed:\n",
    "    keys = sorted([key for key in bind.keys() if key.startswith('z')], reverse=True)\n",
    "    vals = [str(bind[key]) for key in keys]\n",
    "    bin_string = ''.join(vals)\n",
    "print(f'Part 1 Answer: {convert_b2_to_b10(bin_string)}')"
   ]
  },
  {
   "cell_type": "code",
   "execution_count": null,
   "id": "72cd4695",
   "metadata": {},
   "outputs": [],
   "source": []
  }
 ],
 "metadata": {
  "kernelspec": {
   "display_name": "venv",
   "language": "python",
   "name": "python3"
  },
  "language_info": {
   "codemirror_mode": {
    "name": "ipython",
    "version": 3
   },
   "file_extension": ".py",
   "mimetype": "text/x-python",
   "name": "python",
   "nbconvert_exporter": "python",
   "pygments_lexer": "ipython3",
   "version": "3.13.2"
  }
 },
 "nbformat": 4,
 "nbformat_minor": 5
}
