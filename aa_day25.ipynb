{
 "cells": [
  {
   "cell_type": "markdown",
   "metadata": {},
   "source": [
    "My solution to https://adventofcode.com/2024/day/25\n",
    "\n",
    "Locks and Keys\n",
    "\n",
    "Part 1 approach involves converting each key and each lock into lists of 5 positions. Each position of the lock can be added to the corresponding position of the key. If this sum is 5 for all 5 positions, it's a perfect fit. If it's less than 5, the key will still work. Part 1 adds all the situations that the key still works.  \n",
    "\n",
    "There is no Part 2 for this day. \n",
    "\n",
    "-Annette"
   ]
  },
  {
   "cell_type": "code",
   "execution_count": 4,
   "metadata": {},
   "outputs": [],
   "source": [
    "#import modules\n",
    "import numpy as np"
   ]
  },
  {
   "cell_type": "code",
   "execution_count": 16,
   "metadata": {},
   "outputs": [],
   "source": [
    "# Part 1 Function\n",
    "def barrelcountL(startline,endline) -> list:\n",
    "    '''converts a pattern in text into a list of 5 positions or barrels\n",
    "    representing either lock or key'''\n",
    "    global lines\n",
    "    lork = [0 for i in range(5)]#lock or key\n",
    "    for row in range(startline,endline):\n",
    "        for col in range(5):\n",
    "            if lines[row][col]== '#':\n",
    "                lork[col]+=1\n",
    "    return lork\n"
   ]
  },
  {
   "cell_type": "code",
   "execution_count": 17,
   "metadata": {},
   "outputs": [
    {
     "name": "stdout",
     "output_type": "stream",
     "text": [
      "There are 250 locks and 250 keys.\n",
      "Values of first lock is [0 5 4 2 3] and first key is [1 5 0 5 2].\n"
     ]
    }
   ],
   "source": [
    "#Part 1 A. Produce locks and keys as 2-D numpy arrays from text file\n",
    "\n",
    "#open text file and get data as list of lines\n",
    "with open (\"day25_input.txt\", \"r\") as f:\n",
    "    lines = f.read().splitlines()\n",
    "\n",
    "#convert lines as 2-D numpy arrays of locks and keys\n",
    "locks = []\n",
    "keys = []\n",
    "\n",
    "for i in range(0,len(lines),8):\n",
    "    if lines[i] == '#####':\n",
    "        locks.append(barrelcountL(i+1,i+6))\n",
    "        \n",
    "    elif lines[i] == '.....':\n",
    "        keys.append(barrelcountL(i+1,i+6))\n",
    "\n",
    "locks = np.array(locks)\n",
    "keys = np.array(keys)\n",
    "\n",
    "#Check by printing out values\n",
    "print(f'There are {len(locks)} locks and {len(keys)} keys.')\n",
    "print(f'Values of first lock is {locks[0]} and first key is {keys[0]}.')"
   ]
  },
  {
   "cell_type": "code",
   "execution_count": 18,
   "metadata": {},
   "outputs": [
    {
     "name": "stdout",
     "output_type": "stream",
     "text": [
      "Part 1 Answer: 2900 unique lock/key pairs that fit\n"
     ]
    }
   ],
   "source": [
    "#Part1 Solution\n",
    "theyfit = 0\n",
    "for l in locks:\n",
    "    for k in keys:\n",
    "        if (l+k <= 5).all():\n",
    "            theyfit +=1\n",
    "            \n",
    "print(f'Part 1 Answer: {theyfit} unique lock/key pairs that fit') "
   ]
  },
  {
   "cell_type": "markdown",
   "metadata": {},
   "source": [
    "There is no Part 2 for Day 25."
   ]
  }
 ],
 "metadata": {
  "kernelspec": {
   "display_name": "venv",
   "language": "python",
   "name": "python3"
  },
  "language_info": {
   "codemirror_mode": {
    "name": "ipython",
    "version": 3
   },
   "file_extension": ".py",
   "mimetype": "text/x-python",
   "name": "python",
   "nbconvert_exporter": "python",
   "pygments_lexer": "ipython3",
   "version": "3.13.2"
  }
 },
 "nbformat": 4,
 "nbformat_minor": 2
}
