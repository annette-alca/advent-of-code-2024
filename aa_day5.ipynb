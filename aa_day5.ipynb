{
 "cells": [
  {
   "cell_type": "markdown",
   "metadata": {},
   "source": [
    "My solution to https://adventofcode.com/2024/day/5\n",
    "This was refactored in 2025, shortened by using list comprehensions and list unpacking.\n",
    "\n",
    "- Annette"
   ]
  },
  {
   "cell_type": "code",
   "execution_count": null,
   "metadata": {},
   "outputs": [],
   "source": [
    "#Import time just to see how long Part 2 takes.\n",
    "import time"
   ]
  },
  {
   "cell_type": "code",
   "execution_count": null,
   "metadata": {},
   "outputs": [
    {
     "name": "stdout",
     "output_type": "stream",
     "text": [
      "file has 1352 lines.\n",
      "rules: 1176\n",
      "pages to update: 175\n"
     ]
    }
   ],
   "source": [
    "#Open file and get information.\n",
    "\n",
    "with open('day5_input.txt','r') as f:\n",
    "    lines = f.read().splitlines()\n",
    "print(f\"file has {len(lines)} lines.\")\n",
    "\n",
    "#Get rules and pagetest lists\n",
    "rules = [l.split(\"|\") for l in lines if \"|\" in l]\n",
    "pagetest = [l.split(\",\") for l in lines if \",\" in l]\n",
    "print(f\"rules: {len(rules)}\")\n",
    "print(f\"lists of pages to update: {len(pagetest)}\")\n"
   ]
  },
  {
   "cell_type": "code",
   "execution_count": null,
   "metadata": {},
   "outputs": [],
   "source": [
    "#Part 1 Function\n",
    "#test every page in pagetest individually\n",
    "\n",
    "def printTest (printSched):\n",
    "    '''printSched : list of pages to be printed\n",
    "    outputs True if test is passed'''\n",
    "    global rules\n",
    "\n",
    "    for i in range(len(printSched)-1): #index of page to be tested     \n",
    "        for j in range(i+1,len(printSched)): #index of page being compared to first\n",
    "            if i >= j: #same page or reached end, skip in loop\n",
    "                continue\n",
    "            else:\n",
    "                ip = printSched[i]\n",
    "                jp = printSched[j]\n",
    "#                 print('\\n',ip,jp)\n",
    "                for first,second in rules:\n",
    "                    if ip == second and jp == first: #pages in wrong order\n",
    "                        return False\n",
    "                    # else:\n",
    "                    #     continue\n",
    "    return True"
   ]
  },
  {
   "cell_type": "code",
   "execution_count": 35,
   "metadata": {},
   "outputs": [
    {
     "name": "stdout",
     "output_type": "stream",
     "text": [
      "Part1 Answer: 4185\n",
      "for part2, numer of lists = 91\n"
     ]
    }
   ],
   "source": [
    "#Part 1 Solution\n",
    "\n",
    "#Part 1 Checking and getting middle page\n",
    "total = 0\n",
    "failedPLs = [] #collect failed page lists for Part2\n",
    "\n",
    "for pL in pagetest:\n",
    "    if printTest(pL): #lists that pass\n",
    "        middlepage = pL[(len(pL)-1)//2] \n",
    "#         print('pass')\n",
    "        total += int(middlepage)\n",
    "    else:\n",
    "        failedPLs.append(pL)\n",
    "print('Part1 Answer:',total)\n",
    "print('for part2, numer of lists =', len(failedPLs))"
   ]
  },
  {
   "cell_type": "code",
   "execution_count": 40,
   "metadata": {},
   "outputs": [],
   "source": [
    "#Part 2, correcting wrong order of numbers\n",
    "\n",
    "def rearrSched (printSched):\n",
    "    '''printSched : list of pages to be printed\n",
    "    outputs correctSched: list of rearranged pages'''\n",
    "    global rules\n",
    "    correctSched = []\n",
    "    \n",
    "    for i in range(len(printSched)-1): #index of every item in list of pages to be printed\n",
    "        passTesti = True\n",
    "        for j in range(i+1,len(printSched)): #index of page being compared to first\n",
    "            if i >= j: #same page or reached end, skip in loop\n",
    "                continue\n",
    "            else:\n",
    "                ip = printSched[i]\n",
    "                jp = printSched[j]\n",
    "#                 print('\\n',ip,jp)\n",
    "                for first,second in rules:\n",
    "                    if first == jp and second == ip: #reverse order\n",
    "                        passTesti = False\n",
    "                        correctSched.append(jp)\n",
    "                        correctSched.append(ip)\n",
    "                        for rest in range(i+1,len(printSched)):\n",
    "                            if rest<len(printSched) and rest != j:\n",
    "                                correctSched.append(printSched[rest])\n",
    "                        return [False,correctSched]\n",
    "                    else:\n",
    "                        continue\n",
    "        if passTesti:\n",
    "            correctSched.append(ip)\n",
    "    return [True, correctSched]"
   ]
  },
  {
   "cell_type": "code",
   "execution_count": 44,
   "metadata": {},
   "outputs": [
    {
     "name": "stdout",
     "output_type": "stream",
     "text": [
      "Part 2 Answer: 4480 \n",
      " number of page swaps made =  1117 \n",
      " number of page lists processed =  91\n",
      "--- 7.658706188201904 seconds ---\n"
     ]
    }
   ],
   "source": [
    "#Part2 Solution\n",
    "\n",
    "start_time = time.time()\n",
    "\n",
    "total2 = 0\n",
    "countPL = 0\n",
    "countCorrection = 0\n",
    "for f in failedPLs:\n",
    "    PL = f.copy()\n",
    "#    print(printTest(PL), end = ' ')\n",
    "    while not printTest(PL):\n",
    "#        print(countPL, printTest(PL), PL)\n",
    "        PL = rearrSched(PL)[1]\n",
    "        countCorrection +=1\n",
    "#    print(countPL, printTest(PL),' ',PL)\n",
    "    middlepage = PL[(len(PL)-1)//2] \n",
    "    total2 += int(middlepage)\n",
    "    countPL+=1\n",
    "    \n",
    "print('Part 2 Answer:',total2, '\\n number of page swaps made = ',countCorrection, '\\n number of page lists processed = ',countPL)\n",
    "print(\"--- %s seconds ---\" % (time.time() - start_time))"
   ]
  }
 ],
 "metadata": {
  "kernelspec": {
   "display_name": "venv",
   "language": "python",
   "name": "python3"
  },
  "language_info": {
   "codemirror_mode": {
    "name": "ipython",
    "version": 3
   },
   "file_extension": ".py",
   "mimetype": "text/x-python",
   "name": "python",
   "nbconvert_exporter": "python",
   "pygments_lexer": "ipython3",
   "version": "3.13.2"
  }
 },
 "nbformat": 4,
 "nbformat_minor": 4
}
