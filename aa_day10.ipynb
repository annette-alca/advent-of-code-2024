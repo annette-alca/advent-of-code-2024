{
 "cells": [
  {
   "cell_type": "markdown",
   "metadata": {},
   "source": [
    "My solution to https://adventofcode.com/2024/day/10, finding trails in a matrix.\n",
    "\n",
    "-Annette\n",
    "\n"
   ]
  },
  {
   "cell_type": "code",
   "execution_count": 1,
   "metadata": {},
   "outputs": [
    {
     "data": {
      "text/plain": [
       "40"
      ]
     },
     "execution_count": 1,
     "metadata": {},
     "output_type": "execute_result"
    }
   ],
   "source": [
    "#open file and get information\n",
    "fileN = 'day10_input.txt'\n",
    "\n",
    "with open(fileN,'r') as file:\n",
    "    lines = file.read().splitlines()\n",
    "\n",
    "len(lines)"
   ]
  },
  {
   "cell_type": "code",
   "execution_count": null,
   "metadata": {},
   "outputs": [],
   "source": [
    "#Variables and Functions Used in Parts 1 and 2\n",
    "\n",
    "matrix = lines.copy()\n",
    "maxrow = len(matrix)\n",
    "maxcol = len(matrix[0])\n",
    "\n",
    "def minesweep (origcoords,value):\n",
    "    '''value in row,col\n",
    "    row,col : coordinates in matrix\n",
    "    returns True if value going up in cells around original value, with diagonal steps'''\n",
    "    global matrix, maxrow, maxcol\n",
    "    \n",
    "    trailtot = 0 #trails going on from here\n",
    "    trailcoords = [] #coordinates of next steps \n",
    "    \n",
    "    for row,col in origcoords:\n",
    "        \n",
    "        for rowval in [row-1,row, row+1]:\n",
    "            if rowval>=0 and rowval<maxrow:\n",
    "                for colval in [col-1,col, col+1]:\n",
    "                    if colval>=0 and colval <maxcol:\n",
    "                        if matrix[rowval][colval] == str(value + 1):\n",
    "                            trailtot +=1\n",
    "                            trailcoords.append([rowval,colval])\n",
    "\n",
    "        print(value+1, end = ' ')\n",
    "\n",
    "        return (trailtot,trailcoords,value+1)\n",
    "    \n",
    "def crossSweep (origcoords,value):\n",
    "    '''value in row,col\n",
    "    row,col : coordinates in matrix\n",
    "    returns next step up coordinates'''\n",
    "    global matrix, maxrow, maxcol\n",
    "    \n",
    "    trailtot = 0 #trails going on from here\n",
    "    trailcoords = [] #coordinates of next steps \n",
    "    \n",
    "    for row,col in origcoords:        \n",
    "        for rowval in [row-1, row+1]: #up down\n",
    "            if rowval>=0 and rowval<maxrow:\n",
    "                if matrix[rowval][col] == str(value + 1):\n",
    "                    if [rowval,col] not in trailcoords: #only unique\n",
    "                        trailcoords.append([rowval,col])\n",
    "                        trailtot+=1\n",
    "        for colval in [col-1, col+1]: #left right\n",
    "            if colval>=0 and colval <maxcol:\n",
    "                if matrix[row][colval] == str(value + 1): #only unique\n",
    "                    if [row,colval] not in trailcoords:\n",
    "                        trailtot +=1\n",
    "                        trailcoords.append([row,colval])\n",
    "                    \n",
    "#     if trailtot==0:\n",
    "#         print('no more trails at',value+1)\n",
    "#     print(value+1, 'live are', trailtot, end = '; ')\n",
    "\n",
    "    return (trailtot,trailcoords,value+1)\n",
    "\n",
    "def crossSweep2 (origcoords,value):\n",
    "    '''for part2, remove unique part'''\n",
    "    '''value in row,col\n",
    "    row,col : coordinates in matrix\n",
    "    returns next step up coordinates'''\n",
    "    global matrix, maxrow, maxcol\n",
    "    \n",
    "    trailtot = 0 #trails going on from here\n",
    "    trailcoords = [] #coordinates of next steps \n",
    "    \n",
    "    for row,col in origcoords:        \n",
    "        for rowval in [row-1, row+1]: #up down\n",
    "            if rowval>=0 and rowval<maxrow:\n",
    "                if matrix[rowval][col] == str(value + 1):\n",
    "                    #if [rowval,col] not in trailcoords: #only unique\n",
    "                    trailcoords.append([rowval,col])\n",
    "                    trailtot+=1\n",
    "        for colval in [col-1, col+1]: #left right\n",
    "            if colval>=0 and colval <maxcol:\n",
    "                if matrix[row][colval] == str(value + 1): #only unique\n",
    "                    #if [row,colval] not in trailcoords:\n",
    "                    trailtot +=1\n",
    "                    trailcoords.append([row,colval])\n",
    "    return (trailtot,trailcoords,value+1)\n",
    "\n",
    "def findstarts ():\n",
    "    global matrix, maxrow, maxcol\n",
    "    \n",
    "    starttot = 0\n",
    "    startcoords = []\n",
    "    for row in range(maxrow):\n",
    "        for col in range(maxcol):\n",
    "            if matrix[row][col]=='0':\n",
    "                starttot +=1\n",
    "                startcoords.append([row,col])\n",
    "    return (starttot,startcoords)"
   ]
  },
  {
   "cell_type": "code",
   "execution_count": 5,
   "metadata": {},
   "outputs": [
    {
     "name": "stdout",
     "output_type": "stream",
     "text": [
      "Part1 Answer: 430\n"
     ]
    }
   ],
   "source": [
    "#Part1 Solution\n",
    "\n",
    "trailtot,trailcoords = findstarts() #get coordinates of all spots with zero\n",
    "\n",
    "totlivetrails = 0\n",
    "for t in trailcoords:\n",
    "    val = 0\n",
    "    livetrails = 1\n",
    "    livecoords = [t]\n",
    "  #  print('new',livecoords, val)\n",
    "    while livetrails>0: #and val<10:\n",
    "        livetrails, livecoords, val = crossSweep(livecoords,val)\n",
    "        if val==9:\n",
    "            #uniquelive = set(livecoords)\n",
    "            totlivetrails += livetrails\n",
    "            #print('livetrails',livetrails,'tot',totlivetrails)\n",
    "            break\n",
    "            \n",
    "print(f'Part1 Answer: {totlivetrails}')"
   ]
  },
  {
   "cell_type": "code",
   "execution_count": 6,
   "metadata": {},
   "outputs": [
    {
     "name": "stdout",
     "output_type": "stream",
     "text": [
      "Part2 Answer 928\n"
     ]
    }
   ],
   "source": [
    "#Part2\n",
    "totlivetrails = 0\n",
    "for t in trailcoords:\n",
    "    val = 0\n",
    "    livetrails = 1\n",
    "    livecoords = [t]\n",
    "  #  print('new',livecoords, val)\n",
    "    while livetrails>0: #and val<10:\n",
    "        livetrails, livecoords, val = crossSweep2(livecoords,val)\n",
    "        if val==9:\n",
    "            #uniquelive = set(livecoords)\n",
    "            totlivetrails += livetrails\n",
    "            #print('livetrails',livetrails,'tot',totlivetrails)\n",
    "            break\n",
    "            \n",
    "print(f'Part2 Answer {totlivetrails}')"
   ]
  }
 ],
 "metadata": {
  "kernelspec": {
   "display_name": "venv",
   "language": "python",
   "name": "python3"
  },
  "language_info": {
   "codemirror_mode": {
    "name": "ipython",
    "version": 3
   },
   "file_extension": ".py",
   "mimetype": "text/x-python",
   "name": "python",
   "nbconvert_exporter": "python",
   "pygments_lexer": "ipython3",
   "version": "3.13.2"
  }
 },
 "nbformat": 4,
 "nbformat_minor": 4
}
