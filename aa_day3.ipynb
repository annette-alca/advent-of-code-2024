{
 "cells": [
  {
   "cell_type": "markdown",
   "metadata": {},
   "source": [
    "My solution to https://adventofcode.com/2024/day/3\n",
    "\n",
    "-Annette"
   ]
  },
  {
   "cell_type": "code",
   "execution_count": 41,
   "metadata": {
    "scrolled": false
   },
   "outputs": [
    {
     "data": {
      "text/plain": [
       "20156"
      ]
     },
     "execution_count": 41,
     "metadata": {},
     "output_type": "execute_result"
    }
   ],
   "source": [
    "#Open file and get information\n",
    "with open('day3_input.txt','r') as f:\n",
    "    lines = f.read().splitlines()\n",
    "\n",
    "#Create one long text\n",
    "txt = ''.join(lines)\n",
    "len(txt)\n"
   ]
  },
  {
   "cell_type": "code",
   "execution_count": 42,
   "metadata": {},
   "outputs": [],
   "source": [
    "#Part 1 Function\n",
    "\n",
    "def getFirstProduct (text):\n",
    "    '''gets first instance of multiple text and ()\n",
    "    returns product and remaining text'''\n",
    "    short1 = text[text.index('mul(')+4:]\n",
    "    short2 = short1[:short1.index(')')]\n",
    "    newtext = short1[len(short2):]\n",
    "    nums = short2.split(',')\n",
    "    #print(short2,nums)\n",
    "    try:\n",
    "        return [int(nums[0])*int(nums[1]), newtext]\n",
    "    except (TypeError,ValueError):\n",
    "        #print(short2)\n",
    "        #print(short2+ ' ' + newtext[:5])\n",
    "        return[0, short2+newtext]\n",
    "        "
   ]
  },
  {
   "cell_type": "code",
   "execution_count": null,
   "metadata": {},
   "outputs": [
    {
     "name": "stdout",
     "output_type": "stream",
     "text": [
      "Part 1 Answer: 187833789\n"
     ]
    }
   ],
   "source": [
    "# Part 1 Solution\n",
    "text = txt #copy original string\n",
    "sumOfPdts = 0\n",
    "while 'mul(' in text:\n",
    "    pdt,text = getFirstProduct(text)\n",
    "    sumOfPdts += pdt\n",
    "\n",
    "print(f\"Part 1 Answer: {sumOfPdts}\")"
   ]
  },
  {
   "cell_type": "code",
   "execution_count": 48,
   "metadata": {},
   "outputs": [],
   "source": [
    "# Part 2 Function\n",
    "# include do() and don't()\n",
    "def getEnabledText(text):\n",
    "    '''returns text between dos and donts'''\n",
    "    start = text.index (\"do()\")\n",
    "    try:\n",
    "        end = text.index(\"don't()\")+7\n",
    "    except ValueError: #if there is no don't\n",
    "        end = len(text)\n",
    "    enabled = text[start:end]\n",
    "    remainingText = text[end:]\n",
    "    return (enabled, remainingText)\n"
   ]
  },
  {
   "cell_type": "code",
   "execution_count": null,
   "metadata": {},
   "outputs": [
    {
     "name": "stdout",
     "output_type": "stream",
     "text": [
      "Part 2 Answer: 93513434\n"
     ]
    }
   ],
   "source": [
    "#Part 2 Solution\n",
    "remainingT = txt #copy original string\n",
    "sumOfPdts = 0\n",
    "counter = 0\n",
    "while 'do()' in remainingT:\n",
    "    enabledT, remainingT = getEnabledText(remainingT)\n",
    "    while 'mul(' in enabledT:\n",
    "        pdt,enabledT = getFirstProduct(enabledT)\n",
    "        sumOfPdts += pdt\n",
    "        counter +=1\n",
    "\n",
    "print(f\"Part 2 Answer: {sumOfPdts}\")"
   ]
  }
 ],
 "metadata": {
  "kernelspec": {
   "display_name": "venv",
   "language": "python",
   "name": "python3"
  },
  "language_info": {
   "codemirror_mode": {
    "name": "ipython",
    "version": 3
   },
   "file_extension": ".py",
   "mimetype": "text/x-python",
   "name": "python",
   "nbconvert_exporter": "python",
   "pygments_lexer": "ipython3",
   "version": "3.13.2"
  }
 },
 "nbformat": 4,
 "nbformat_minor": 4
}
