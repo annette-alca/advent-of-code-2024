{
 "cells": [
  {
   "cell_type": "markdown",
   "metadata": {},
   "source": [
    "My solution to https://adventofcode.com/2024/day/22, the monkey banana exchange.\n",
    "\n",
    "-Annette"
   ]
  },
  {
   "cell_type": "code",
   "execution_count": null,
   "metadata": {
    "scrolled": true
   },
   "outputs": [
    {
     "data": {
      "text/plain": [
       "1862"
      ]
     },
     "execution_count": 1,
     "metadata": {},
     "output_type": "execute_result"
    }
   ],
   "source": [
    "#open file and get information\n",
    "\n",
    "fileN = 'day22_input.txt'\n",
    "with open(fileN,'r') as file:\n",
    "    lines = file.read().splitlines()\n",
    "len(lines)"
   ]
  },
  {
   "cell_type": "code",
   "execution_count": 109,
   "metadata": {},
   "outputs": [],
   "source": [
    "#Part 1 Function\n",
    "\n",
    "#mult,mix, and prune\n",
    "def generateSec(sec : int) -> int:\n",
    "    '''generates secret number'''\n",
    "    first = ((sec*64)^sec)%16777216\n",
    "    second = ((first//32)^first)%16777216\n",
    "    third = ((second*2048)^second)%16777216\n",
    "    return third"
   ]
  },
  {
   "cell_type": "code",
   "execution_count": 6,
   "metadata": {},
   "outputs": [
    {
     "name": "stdout",
     "output_type": "stream",
     "text": [
      "Part 1: 15608699004\n"
     ]
    }
   ],
   "source": [
    "#Part 1 Calculation\n",
    "\n",
    "sumtot = 0\n",
    "\n",
    "for l in lines:\n",
    "    sec = int(l)\n",
    "    for i in range(2000): #generate the 2000th secret number\n",
    "        sec = (generateSec(sec))\n",
    "    #print (l,sec)\n",
    "    sumtot += sec\n",
    "    \n",
    "print(f'Part 1: {sumtot}')"
   ]
  },
  {
   "cell_type": "code",
   "execution_count": 154,
   "metadata": {
    "scrolled": false
   },
   "outputs": [
    {
     "name": "stdout",
     "output_type": "stream",
     "text": [
      "Part 2, most bananas: 1791\n"
     ]
    }
   ],
   "source": [
    "#Part 2 \n",
    "#finding leading sequences\n",
    "\n",
    "allPrefixD = {} #dictionary of 4 leading sequences or 'prefixes' and the running total banana numbers\n",
    "\n",
    "for l in lines: #generated list of numbers from input file\n",
    "    prefixD = {}\n",
    "    runningDiffs = []\n",
    "    s = int(l)\n",
    "    for i in range(2000):\n",
    "        s = generateSec(s)\n",
    "        currlast = s%10\n",
    "\n",
    "        if i == 0: #first value is zero\n",
    "            prevlast = currlast\n",
    "        diff = currlast - prevlast\n",
    "        runningDiffs.append(diff)\n",
    "        \n",
    "        if  i >= 3: #when we have four numbers \n",
    "            lead4 = \",\".join(map(str, runningDiffs))\n",
    "            if lead4 not in prefixD:\n",
    "                prefixD[lead4] = currlast\n",
    "            runningDiffs.pop(0)\n",
    "\n",
    "        prevlast = currlast\n",
    "    \n",
    "    for lead4 in prefixD: #keep adding numbers \n",
    "        allPrefixD[lead4] = allPrefixD.get(lead4,0) + prefixD[lead4]\n",
    "\n",
    "#print max bananas\n",
    "print(f'Part 2, most bananas: {max(allPrefixD.values())}')"
   ]
  },
  {
   "cell_type": "code",
   "execution_count": 149,
   "metadata": {},
   "outputs": [
    {
     "name": "stdout",
     "output_type": "stream",
     "text": [
      "1791 -1,-1,2,1 1791\n"
     ]
    }
   ],
   "source": [
    "# Other Part 2 test\n",
    "maxB = 1\n",
    "for lead4 in allPrefixD:\n",
    "    if allPrefixD[lead4] >maxB:\n",
    "        maxB = allPrefixD[lead4]\n",
    "        bestlead = lead4\n",
    "print(maxB,bestlead, allPrefixD[bestlead])"
   ]
  }
 ],
 "metadata": {
  "kernelspec": {
   "display_name": "venv",
   "language": "python",
   "name": "python3"
  },
  "language_info": {
   "codemirror_mode": {
    "name": "ipython",
    "version": 3
   },
   "file_extension": ".py",
   "mimetype": "text/x-python",
   "name": "python",
   "nbconvert_exporter": "python",
   "pygments_lexer": "ipython3",
   "version": "3.13.2"
  }
 },
 "nbformat": 4,
 "nbformat_minor": 4
}
