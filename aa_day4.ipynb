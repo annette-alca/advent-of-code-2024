{
 "cells": [
  {
   "cell_type": "markdown",
   "metadata": {},
   "source": [
    "My solution to https://adventofcode.com/2024/day/4\n",
    "\n",
    "- Annette"
   ]
  },
  {
   "cell_type": "code",
   "execution_count": 3,
   "metadata": {},
   "outputs": [
    {
     "data": {
      "text/plain": [
       "140"
      ]
     },
     "execution_count": 3,
     "metadata": {},
     "output_type": "execute_result"
    }
   ],
   "source": [
    "#open and check file\n",
    "file = open('day4_input.txt','r')\n",
    "lines = file.read().splitlines()\n",
    "file.close()\n",
    "len(lines)"
   ]
  },
  {
   "cell_type": "code",
   "execution_count": 4,
   "metadata": {},
   "outputs": [],
   "source": [
    "#Part 1\n",
    "matrix = lines[:]\n",
    "maxcol = len(matrix[0])\n",
    "maxrow = len(matrix)\n",
    "\n",
    "def mat (row,col):\n",
    "    '''shortcut to avoid typing of brackets'''\n",
    "    global matrix\n",
    "    return matrix[row][col] \n",
    "                "
   ]
  },
  {
   "cell_type": "code",
   "execution_count": 5,
   "metadata": {},
   "outputs": [],
   "source": [
    "#generate other matrices in 4 directions below.\n",
    "\n",
    "#matrix already generated, has horizontal words\n",
    "\n",
    "#matvert has vertical words\n",
    "matvert = []\n",
    "for col in range(maxcol):\n",
    "    tempword = ''\n",
    "    for row in range(maxrow):\n",
    "        tempword += mat(row,col)\n",
    "    matvert.append(tempword)\n",
    "    \n",
    "#matupleft has diagonal words / starting from upper left \n",
    "matupleft = []\n",
    "for col in range(maxcol*2):\n",
    "    tempcol = col\n",
    "    row=0\n",
    "    tempword = ''\n",
    "    while row<maxrow and tempcol>=0:\n",
    "        try:\n",
    "            tempword += mat(row,tempcol)\n",
    "        except IndexError:\n",
    "            pass\n",
    "        tempcol -=1\n",
    "        row +=1\n",
    "    matupleft.append(tempword)\n",
    "\n",
    "#matupright has diagonal words \\ starting from upper right\n",
    "matupright = []\n",
    "for col in range(maxcol-1,-maxcol,-1):\n",
    "    tempcol = col\n",
    "    row=0\n",
    "    tempword = ''\n",
    "    while row<maxrow and tempcol<maxcol:\n",
    "\n",
    "        if tempcol>=0:\n",
    "            tempword += mat(row,tempcol)\n",
    "        tempcol +=1\n",
    "        row +=1\n",
    "    matupright.append(tempword)\n",
    "\n",
    "                "
   ]
  },
  {
   "cell_type": "code",
   "execution_count": 8,
   "metadata": {},
   "outputs": [
    {
     "name": "stdout",
     "output_type": "stream",
     "text": [
      "Part 1 Answer: 2613\n"
     ]
    }
   ],
   "source": [
    "#Part 1 Solution\n",
    "#Count occurences of word and reverse of word in every matrix generated above.\n",
    "\n",
    "xcount = 0\n",
    "for matx in [matrix, matvert, matupleft, matupright]:\n",
    "    for m in matx:\n",
    "        xcount += m.count('XMAS')\n",
    "        xcount += m.count('SAMX')\n",
    "print(f\"Part 1 Answer: {xcount}\")"
   ]
  },
  {
   "cell_type": "code",
   "execution_count": 10,
   "metadata": {},
   "outputs": [
    {
     "name": "stdout",
     "output_type": "stream",
     "text": [
      "Part 2 Answer: 1905\n"
     ]
    }
   ],
   "source": [
    "#Part 2 Count\n",
    "#Redo diagonal matrices above\n",
    "#as words are formed in both / and \\ diagonal matrices, check for occurences of 'SAM' and 'MAS'\n",
    "#and store row,col coordinate of 'A' then cross check\n",
    "\n",
    "maxcol = len(matrix[0])\n",
    "maxrow = len(matrix)\n",
    "\n",
    "xcount2 = 0\n",
    "coordinates = []\n",
    "\n",
    "\n",
    "#matrix of diagonal letters from upper left\n",
    "for col in range(maxcol*2):\n",
    "    tempcol = col\n",
    "    row=0\n",
    "    tempword = ''\n",
    "    while row<maxrow and tempcol>=0:\n",
    "        if tempcol<maxcol:\n",
    "            tempword += mat(row,tempcol)\n",
    "            if tempword.endswith('SAM') or tempword.endswith('MAS'): #check\n",
    "                coo = [row-1,tempcol+1] #coordinates of 'A'\n",
    "                coordinates.append(coo) #store coordintes of 'A' in list coordinates\n",
    "                \n",
    "        tempcol -=1\n",
    "        row +=1\n",
    "\n",
    "\n",
    "#matrix of diagonal letters from upper right\n",
    "for col in range(maxcol-1,-maxcol,-1):\n",
    "    tempcol = col\n",
    "    row=0\n",
    "    tempword = ''\n",
    "    while row<maxrow and tempcol<maxcol:\n",
    "        \n",
    "        if tempcol>=0:\n",
    "            tempword += mat(row,tempcol)\n",
    "            if tempword.endswith('SAM') or tempword.endswith('MAS'):\n",
    "                coo = [row-1,tempcol-1] #coordinates of 'A'\n",
    "                #print(coo,tempword)\n",
    "                if coo in coordinates:  #match coordinates of 'A' against  list coordinates\n",
    "                    xcount2 +=1         #if match, add 1 to count\n",
    "\n",
    "        tempcol +=1\n",
    "        row +=1\n",
    "\n",
    "print(f\"Part 2 Answer: {xcount2}\")"
   ]
  }
 ],
 "metadata": {
  "kernelspec": {
   "display_name": "venv",
   "language": "python",
   "name": "python3"
  },
  "language_info": {
   "codemirror_mode": {
    "name": "ipython",
    "version": 3
   },
   "file_extension": ".py",
   "mimetype": "text/x-python",
   "name": "python",
   "nbconvert_exporter": "python",
   "pygments_lexer": "ipython3",
   "version": "3.13.2"
  }
 },
 "nbformat": 4,
 "nbformat_minor": 4
}
