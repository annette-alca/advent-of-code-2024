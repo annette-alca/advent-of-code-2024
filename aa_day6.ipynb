{
 "cells": [
  {
   "cell_type": "markdown",
   "metadata": {},
   "source": [
    "My solution to https://adventofcode.com/2024/day/6.\n",
    "\n",
    "-Annette"
   ]
  },
  {
   "cell_type": "code",
   "execution_count": 1,
   "metadata": {},
   "outputs": [],
   "source": [
    "#Import module to time solutions\n",
    "import time"
   ]
  },
  {
   "cell_type": "code",
   "execution_count": 35,
   "metadata": {},
   "outputs": [
    {
     "name": "stdout",
     "output_type": "stream",
     "text": [
      "matrix of 130 * 130\n"
     ]
    }
   ],
   "source": [
    "#Open file and get information, it is a matrix\n",
    "with open (\"day6_input.txt\", \"r\") as f:\n",
    "    matrix = f.read().splitlines()\n",
    "\n",
    "\n",
    "maxrow = len(matrix)\n",
    "maxcol = len(matrix[0])\n",
    "\n",
    "print(f\"matrix of {maxrow} * {maxcol}\")"
   ]
  },
  {
   "cell_type": "code",
   "execution_count": 36,
   "metadata": {},
   "outputs": [],
   "source": [
    "#Part 1 Dictionary and Function\n",
    "\n",
    "#dictionary of the [next turn direction,row effect, col effect,limit]\n",
    "turns = {'up':['right',-1,0,-1],\n",
    "         'right':['down',0,1,maxcol],\n",
    "         'down':['left',1,0,maxrow],\n",
    "         'left':['up',0,-1,-1]}\n",
    "\n",
    "\n",
    "def countSteps(row,col,direc):\n",
    "    '''row, col are integer positions\n",
    "    direc is direction: up, down, left, right\n",
    "    returns 4 values: newrow,newcol,new direction, number of steps until next obstacle and new direction\n",
    "    if end of matrix reached, new direction is \"done\" '''\n",
    "    \n",
    "    global mtx, maxcol, maxrow, turns\n",
    "    \n",
    "    assert direc in ['up', 'right', 'down', 'left'], 'Check direction and reenter please.'\n",
    "    \n",
    "    steps = 0\n",
    "    newdirec = turns[direc][0]\n",
    "    rowchange = turns[direc][1]\n",
    "    colchange = turns[direc][2]\n",
    "    limit = turns[direc][3]\n",
    "    \n",
    "    if colchange==0: #same column, direc is up or down\n",
    "        for newrow in range(row+rowchange,limit,rowchange):\n",
    "            new = mtx[newrow][col]\n",
    "            if new == '.': #replacing '.' with 'X' below, adding 1 position\n",
    "                rowstring=mtx[newrow][:col]+'X'+mtx[newrow][col+1:] \n",
    "                mtx[newrow]=rowstring\n",
    "                steps +=1\n",
    "\n",
    "            elif new == '#':  #stop and turn\n",
    "                return [newrow-rowchange,col,newdirec,steps] #if block encountered\n",
    " \n",
    "        return [newrow,col,'done',steps] #if out of matrix\n",
    "    \n",
    "    else: #same row, direc is left or right\n",
    "        for newcol in range(col+colchange,limit,colchange):\n",
    "            new = mtx[row][newcol]\n",
    "            if new == '.':  #replacing '.' with 'X' below, adding 1 position\n",
    "                rowstring=mtx[row][:newcol]+'X'+mtx[row][newcol+1:] \n",
    "                mtx[row]=rowstring\n",
    "                steps +=1\n",
    "\n",
    "            elif new == '#': #stop and turn\n",
    "                return [row,newcol-colchange,newdirec,steps] #if block encountered\n",
    "\n",
    "        return [row,newcol,'done',steps] #if out of matrix\n",
    "    \n",
    "        "
   ]
  },
  {
   "cell_type": "code",
   "execution_count": 37,
   "metadata": {},
   "outputs": [
    {
     "name": "stdout",
     "output_type": "stream",
     "text": [
      "Part 1 Answer: 4454\n",
      "--- 0.002063751220703125 seconds ---\n"
     ]
    }
   ],
   "source": [
    "#Part 1 Solution\n",
    "\n",
    "mtx = matrix[:]\n",
    "start = time.time()\n",
    "\n",
    "totalsteps = 1\n",
    "totalturns = 0\n",
    "\n",
    "#find coordinates of ^ for start\n",
    "\n",
    "for m in mtx:\n",
    "    if '^' in m:\n",
    "        row = mtx.index(m)\n",
    "        col = m.index('^')\n",
    "        direc = 'up'\n",
    "\n",
    "#tracking, counting totalsteps        \n",
    "        \n",
    "while direc != 'done':\n",
    "    totalturns +=1\n",
    "    row,col,direc,steps = countSteps(row,col,direc)\n",
    "    totalsteps += steps\n",
    "    \n",
    "print(f\"Part 1 Answer: {totalsteps}\")\n",
    "print(\"--- %s seconds ---\" % (time.time() - start))\n"
   ]
  },
  {
   "cell_type": "code",
   "execution_count": 38,
   "metadata": {},
   "outputs": [
    {
     "data": {
      "text/plain": [
       "133"
      ]
     },
     "execution_count": 38,
     "metadata": {},
     "output_type": "execute_result"
    }
   ],
   "source": [
    "#Out of interest, number of turns before exiting\n",
    "totalturns"
   ]
  },
  {
   "cell_type": "code",
   "execution_count": 39,
   "metadata": {},
   "outputs": [],
   "source": [
    "#Part 2 A.\n",
    "#generate original sample matrix\n",
    "\n",
    "dtx = mtx.copy() # where all 'X' marked\n",
    "\n",
    "origmtx = [] #generate original mtx with no 'X', just '.'\n",
    "for t in dtx:\n",
    "    origmtx.append(t.replace('X','.'))\n",
    "\n"
   ]
  },
  {
   "cell_type": "code",
   "execution_count": 40,
   "metadata": {},
   "outputs": [
    {
     "data": {
      "text/plain": [
       "4453"
      ]
     },
     "execution_count": 40,
     "metadata": {},
     "output_type": "execute_result"
    }
   ],
   "source": [
    "#Part 2 B.\n",
    "#New obstacles can only be in travelled path, spots marked with 'X' in dtx\n",
    "#get matrix positions with X\n",
    "\n",
    "Xspots = []\n",
    "\n",
    "for row in range(maxrow):\n",
    "    if 'X' in dtx[row]:\n",
    "        for col in range(maxcol):\n",
    "            if dtx[row][col] == 'X':\n",
    "                Xspots.append([row,col])\n",
    "                \n",
    "len(Xspots)"
   ]
  },
  {
   "cell_type": "code",
   "execution_count": 41,
   "metadata": {
    "scrolled": false
   },
   "outputs": [
    {
     "name": "stdout",
     "output_type": "stream",
     "text": [
      "Starting point: 45 42 up\n",
      "Part2 Answer =  1503\n",
      "--- 2.890979051589966 seconds ---\n"
     ]
    }
   ],
   "source": [
    "#Part2 C. Solution\n",
    "\n",
    "#timing\n",
    "start = time.time()\n",
    "\n",
    "#find starting point\n",
    "for m in mtx:\n",
    "    if '^' in m:\n",
    "        rowstart = mtx.index(m)\n",
    "        colstart = m.index('^')\n",
    "        direcstart = 'up'\n",
    "        print('Starting point:',rowstart,colstart,direcstart)\n",
    "        #print(direc)\n",
    "\n",
    "\n",
    "#tracking, counting totalsteps       \n",
    "\n",
    "maxturns = 200 #original solution max 133 turns, so 200 is generous \n",
    "\n",
    "iloop_coords =  [] #list of coordinates where obstacle can be placed to create infinite loop for guard\n",
    "\n",
    "\n",
    "for coords in Xspots:\n",
    "    zerosteps=0\n",
    "    turns2=0\n",
    "    \n",
    "    #restore starting conditions\n",
    "    row = rowstart\n",
    "    col = colstart\n",
    "    direc = direcstart\n",
    "    \n",
    "    #create mtx with new obstacle\n",
    "    mtx = origmtx.copy()\n",
    "    testrow = coords[0]\n",
    "    testcol = coords [1]\n",
    "    rowstring=mtx[testrow][:testcol]+'#'+mtx[testrow][testcol+1:] #place obstacle at coordinates  \n",
    "    mtx[testrow]=rowstring #redo mtx with new obstacle\n",
    "    \n",
    "    while turns2<=maxturns and direc!='done' and zerosteps<15:\n",
    "        turns2 +=1\n",
    "        row,col,direc,steps = countSteps(row,col,direc)\n",
    "        if steps==0:\n",
    "            zerosteps +=1\n",
    "        else:\n",
    "            zerosteps = 0\n",
    "        if zerosteps>14 and coords not in iloop_coords: #the guard is now in a loop taking 14 turns and tracking spots they have been to\n",
    "            iloop_coords.append(coords)\n",
    "            continue\n",
    "    #print(coords,zerosteps,turns2)\n",
    "    #print(mtx)\n",
    "\n",
    "print('Part2 Answer = ',len(iloop_coords))\n",
    "print(\"--- %s seconds ---\" % (time.time() - start))"
   ]
  }
 ],
 "metadata": {
  "kernelspec": {
   "display_name": "venv",
   "language": "python",
   "name": "python3"
  },
  "language_info": {
   "codemirror_mode": {
    "name": "ipython",
    "version": 3
   },
   "file_extension": ".py",
   "mimetype": "text/x-python",
   "name": "python",
   "nbconvert_exporter": "python",
   "pygments_lexer": "ipython3",
   "version": "3.13.2"
  }
 },
 "nbformat": 4,
 "nbformat_minor": 4
}
