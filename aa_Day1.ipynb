{
 "cells": [
  {
   "cell_type": "markdown",
   "id": "c868e990",
   "metadata": {},
   "source": [
    "My solution to https://adventofcode.com/2024/day/1.\n",
    "\n",
    "This was refactored in 2025 to use lists instead of columns in pandas. I also shortened the solutions using list comprehensions.\n",
    "\n",
    "-Annette"
   ]
  },
  {
   "cell_type": "code",
   "execution_count": 1,
   "id": "a37f06e8",
   "metadata": {},
   "outputs": [],
   "source": [
    "#Part1 data into lists, sort lists\n",
    "with open ('day1_input.txt', 'r') as file:\n",
    "    lines = file.read().splitlines()\n",
    "left = [int(l.split()[0]) for l in lines]\n",
    "right = [int(l.split()[1]) for l in lines]\n",
    "left.sort()\n",
    "right.sort()"
   ]
  },
  {
   "cell_type": "code",
   "execution_count": 2,
   "id": "df2b5cd0",
   "metadata": {},
   "outputs": [
    {
     "name": "stdout",
     "output_type": "stream",
     "text": [
      "Part 1 Answer: 1319616\n"
     ]
    }
   ],
   "source": [
    "### Part 1 \n",
    "# Calculate distances\n",
    "\n",
    "distances= sum([abs(left[i]-right[i]) for i in range(len(left))])    \n",
    "print(f'Part 1 Answer: {distances}')"
   ]
  },
  {
   "cell_type": "code",
   "execution_count": 3,
   "id": "ce997b57",
   "metadata": {},
   "outputs": [
    {
     "name": "stdout",
     "output_type": "stream",
     "text": [
      "Part 2 Answer: 27267728\n"
     ]
    }
   ],
   "source": [
    "### Part 2\n",
    "### Calculate similarity scores\n",
    "### using value_counts, left numbers are unique but right are not\n",
    "\n",
    "similarity_score = sum([l*right.count(l) for l in left])\n",
    "print(f'Part 2 Answer: {similarity_score}')"
   ]
  }
 ],
 "metadata": {
  "kernelspec": {
   "display_name": "venv",
   "language": "python",
   "name": "python3"
  },
  "language_info": {
   "codemirror_mode": {
    "name": "ipython",
    "version": 3
   },
   "file_extension": ".py",
   "mimetype": "text/x-python",
   "name": "python",
   "nbconvert_exporter": "python",
   "pygments_lexer": "ipython3",
   "version": "3.13.2"
  }
 },
 "nbformat": 4,
 "nbformat_minor": 5
}
