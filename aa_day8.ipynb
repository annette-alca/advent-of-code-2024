{
 "cells": [
  {
   "cell_type": "markdown",
   "metadata": {},
   "source": [
    "My solution to https://adventofcode.com/2024/day/8.\n",
    "\n",
    "-Annette"
   ]
  },
  {
   "cell_type": "code",
   "execution_count": 3,
   "metadata": {},
   "outputs": [
    {
     "data": {
      "text/plain": [
       "50"
      ]
     },
     "execution_count": 3,
     "metadata": {},
     "output_type": "execute_result"
    }
   ],
   "source": [
    "#Open input file and get information\n",
    "\n",
    "with open ('day8_input.txt','r') as f:\n",
    "    lines = f.read().splitlines()\n",
    "\n",
    "len(lines)"
   ]
  },
  {
   "cell_type": "code",
   "execution_count": 6,
   "metadata": {
    "scrolled": false
   },
   "outputs": [],
   "source": [
    "#Part1 A. Create matrix and record antennae and their locations (i.e. that are not '.')\n",
    "\n",
    "mtx = lines[:]\n",
    "maxrow = len(mtx)\n",
    "maxcol = len(mtx[0])\n",
    "\n",
    "ants = {} #dictionarry of antennae and their location as [row,col]\n",
    "\n",
    "for row in range(maxrow):\n",
    "    l = lines[row]\n",
    "    for col in range(maxcol):\n",
    "        if l[col] != '.':\n",
    "            char = l[col]\n",
    "            if char not in ants: #create new key\n",
    "                ants[char] = [[row,col]]\n",
    "                \n",
    "            else: #add new coordinates to existing key\n",
    "                charL = ants[char] \n",
    "                charL.append([row,col])\n",
    "                ants[char] = charL\n",
    "\n"
   ]
  },
  {
   "cell_type": "code",
   "execution_count": 7,
   "metadata": {},
   "outputs": [],
   "source": [
    "#Part 1 B. Functions\n",
    "\n",
    "def rowtest(row): #tests valid row value\n",
    "    global maxrow\n",
    "    return (row>=0 and row<maxrow)\n",
    "\n",
    "def coltest(col): #tests valid col value\n",
    "    global maxcol\n",
    "    return (col>=0 and col<maxcol)\n",
    "\n",
    "def getAN (coords):\n",
    "    '''coords : list of coordinates for one type of antennae\n",
    "    outputs antinodes : list of coordinates of antinodes, if within the matrix'''\n",
    "    \n",
    "    global mtx, maxrow, maxcol\n",
    "    antinodes = []\n",
    "    \n",
    "    for ii in range(len(coords)-1): #get each coordinate\n",
    "        for jj in range(ii+1,len(coords)): #pair with remaining coordinates\n",
    "            i = coords[ii]\n",
    "            j = coords[jj]\n",
    "            rowdist = j[0]-i[0] #distance in row between coordinates\n",
    "            coldist = j[1]-i[1] #distance in columns between coordinates\n",
    "            ani = [i[0]-rowdist,i[1]-coldist] #antinode closest to i\n",
    "            anj = [j[0]+rowdist,j[1]+coldist] #antinode closest to j\n",
    "\n",
    "            if rowtest(ani[0]) and coltest(ani[1]):\n",
    "                antinodes.append([ani])\n",
    "            if rowtest(anj[0]) and coltest(anj[1]):\n",
    "                antinodes.append([anj])\n",
    "            \n",
    "    return antinodes\n",
    "                "
   ]
  },
  {
   "cell_type": "code",
   "execution_count": null,
   "metadata": {},
   "outputs": [
    {
     "name": "stdout",
     "output_type": "stream",
     "text": [
      "Part 1 Answer: 361\n"
     ]
    }
   ],
   "source": [
    "#Part1 Function\n",
    "\n",
    "allAntinodes = []\n",
    "\n",
    "for a in ants:\n",
    "    antenL = ants[a]\n",
    "    antinodes = getAN(antenL)\n",
    "    for an in antinodes:\n",
    "        if an not in allAntinodes:\n",
    "            allAntinodes.append(an)\n",
    "\n",
    "print('Part 1 Answer:',len(allAntinodes))"
   ]
  },
  {
   "cell_type": "code",
   "execution_count": 9,
   "metadata": {},
   "outputs": [],
   "source": [
    "#Part2\n",
    "#There is a new Antinode definition\n",
    "\n",
    "def simpleSlope (num1,num2): \n",
    "    '''simplify slope of line to get smallest vertical (rowdist) and horizontal (coldist) units\n",
    "    to mark every antinode'''\n",
    "    ab1 = abs(num1)\n",
    "    ab2 = abs(num2)\n",
    "    limit = min(ab1,ab2)\n",
    "    for i in range(limit,2,-1):\n",
    "        if (ab1/limit).is_integer() and (ab2/limit).is_integer(): #highest number that can be divided by either\n",
    "            return [num1/i,num2/i]\n",
    "        \n",
    "        \n",
    "    #if no simplified number found then return original\n",
    "    return (num1,num2)\n",
    "\n",
    "\n",
    "def unitSlope(rowdist,coldist):\n",
    "    '''uses simpleSlope function above unless (first 3 conditions)\n",
    "    - row change or col change is already 1 unit\n",
    "    - two points in horizontal line\n",
    "    - two points in vertical line\n",
    "    returns simplified rowdist and coldist'''\n",
    "    \n",
    "    if rowdist == 1 or coldist ==1: \n",
    "        return [rowdist,coldist]\n",
    "    elif rowdist == 0: #in horizontal line\n",
    "        return [0,1]\n",
    "    elif coldist == 0: #in vertical line\n",
    "        return [1,0]\n",
    "    else:\n",
    "        return simpleSlope(rowdist,coldist)\n",
    "    \n",
    "\n",
    "def getAN2 (coords):\n",
    "    '''coords : list of coordinates for one type of antennae\n",
    "    outputs antinodes : list of coordinates of antinodes, if within the matrix\n",
    "    follows rules of Part2'''\n",
    "    \n",
    "    global mtx, maxrow, maxcol\n",
    "    antinodes = []\n",
    "    \n",
    "    for ii in range(len(coords)-1):\n",
    "        for jj in range(ii+1,len(coords)):\n",
    "            i = coords[ii]\n",
    "            j = coords[jj]\n",
    "            rowdist = j[0]-i[0]\n",
    "            coldist = j[1]-i[1]\n",
    "            \n",
    "            rdist, cdist = unitSlope(rowdist, coldist)\n",
    "            \n",
    "            ani = i #start from first point get all points in line until bother\n",
    "            while rowtest(ani[0]) and coltest(ani[1]):\n",
    "                if ani not in antinodes:\n",
    "                    antinodes.append(ani)\n",
    "                ani = [ani[0]-rdist, ani[1]-cdist]\n",
    "            ani = i #start again from first point, get all points in line until other border\n",
    "            while rowtest(ani[0]) and coltest(ani[1]):\n",
    "                if ani not in antinodes:\n",
    "                    antinodes.append(ani)\n",
    "                ani = [ani[0]+rdist, ani[1]+cdist]\n",
    "            \n",
    "    return antinodes\n",
    "\n"
   ]
  },
  {
   "cell_type": "code",
   "execution_count": 11,
   "metadata": {},
   "outputs": [
    {
     "name": "stdout",
     "output_type": "stream",
     "text": [
      "Part 2 Answer: 1249\n"
     ]
    }
   ],
   "source": [
    "#Part2 Solution\n",
    "\n",
    "allAntinodes = []\n",
    "\n",
    "for a in ants:\n",
    "    antenL = ants[a]\n",
    "    antinodes = getAN2(antenL)\n",
    "    for an in antinodes:\n",
    "        if an not in allAntinodes:\n",
    "            allAntinodes.append(an)\n",
    "print('Part 2 Answer:',len(allAntinodes))"
   ]
  }
 ],
 "metadata": {
  "kernelspec": {
   "display_name": "venv",
   "language": "python",
   "name": "python3"
  },
  "language_info": {
   "codemirror_mode": {
    "name": "ipython",
    "version": 3
   },
   "file_extension": ".py",
   "mimetype": "text/x-python",
   "name": "python",
   "nbconvert_exporter": "python",
   "pygments_lexer": "ipython3",
   "version": "3.13.2"
  }
 },
 "nbformat": 4,
 "nbformat_minor": 4
}
