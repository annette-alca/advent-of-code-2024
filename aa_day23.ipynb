{
 "cells": [
  {
   "cell_type": "markdown",
   "metadata": {},
   "source": [
    "My solution to https://adventofcode.com/2024/day/23, the LAN parties problem.\n",
    "\n",
    "-Annette"
   ]
  },
  {
   "cell_type": "code",
   "execution_count": 2,
   "metadata": {},
   "outputs": [
    {
     "data": {
      "text/plain": [
       "3380"
      ]
     },
     "execution_count": 2,
     "metadata": {},
     "output_type": "execute_result"
    }
   ],
   "source": [
    "#open file and get information\n",
    "\n",
    "fileN = 'day23_input.txt'\n",
    "with open(fileN, 'r') as file:\n",
    "    lines = file.read().splitlines()\n",
    "len(lines)"
   ]
  },
  {
   "cell_type": "code",
   "execution_count": null,
   "metadata": {},
   "outputs": [],
   "source": [
    "#Part1 Functions\n",
    "\n",
    "def other(i):\n",
    "    '''returns other index in pair'''\n",
    "    if i==1:\n",
    "        return 0\n",
    "    return 1\n",
    "                 \n",
    "def getPairs (lines):\n",
    "    '''returns dictionary of computers (as keys) and all their connections'''\n",
    "    pairD = {}\n",
    "    for l in lines:\n",
    "        pair = l.split('-')\n",
    "        for i in range(2):\n",
    "            if pair[i] not in pairD:\n",
    "                pairD[pair[i]]= [pair[other(i)]]\n",
    "            else:\n",
    "                plist = pairD[pair[i]]\n",
    "                plist.append(pair[other(i)])\n",
    "                pairD[pair[i]] = plist\n",
    "    return pairD\n",
    "                \n"
   ]
  },
  {
   "cell_type": "code",
   "execution_count": 141,
   "metadata": {},
   "outputs": [
    {
     "name": "stdout",
     "output_type": "stream",
     "text": [
      "Part1: 1083\n"
     ]
    }
   ],
   "source": [
    "#Part1\n",
    "pairD = getPairs(lines)\n",
    "trios = []\n",
    "for p in pairD:\n",
    "    if p.startswith('t'):\n",
    "        friends = pairD[p]\n",
    "        for i in range(len(friends)-1):\n",
    "            for j in range(i+1, len(friends)):\n",
    "                if friends[j] in pairD[friends[i]]:\n",
    "                    trioL = [p,friends[i],friends[j]]\n",
    "                    trioL.sort()\n",
    "                    trios.append(','.join(trioL))\n",
    "sett = set(trios)\n",
    "print(f'Part1: {len(sett)}')     "
   ]
  },
  {
   "cell_type": "code",
   "execution_count": null,
   "metadata": {
    "scrolled": true
   },
   "outputs": [
    {
     "data": {
      "text/plain": [
       "520"
      ]
     },
     "execution_count": 130,
     "metadata": {},
     "output_type": "execute_result"
    }
   ],
   "source": [
    "#Part2 function\n",
    "def intersection(lst1, lst2):\n",
    "    lst3 = [value for value in lst1 if value in lst2]\n",
    "    return lst3\n",
    "\n",
    "#Part2 change dictionary of pairs to lists to find intersections\n",
    "\n",
    "#pairD = getPairs(lines)\n",
    "pairL = []\n",
    "longlist = {}\n",
    "for p in pairD:\n",
    "    friends = pairD[p]\n",
    "    friends.append(p)\n",
    "    friends.sort()\n",
    "    #trimD[p] = friends\n",
    "    #print(p,len(trimD[p]))\n",
    "    longlist[len(friends)] = longlist.get(len(friends),0) +1\n",
    "        \n",
    "    pairL.append(friends)\n",
    "len(pairL)"
   ]
  },
  {
   "cell_type": "code",
   "execution_count": 131,
   "metadata": {},
   "outputs": [
    {
     "data": {
      "text/plain": [
       "{14: 520}"
      ]
     },
     "execution_count": 131,
     "metadata": {},
     "output_type": "execute_result"
    }
   ],
   "source": [
    "longlist"
   ]
  },
  {
   "cell_type": "code",
   "execution_count": 143,
   "metadata": {},
   "outputs": [
    {
     "name": "stdout",
     "output_type": "stream",
     "text": [
      "Part 2 password: as,bu,cp,dj,ez,fd,hu,it,kj,nx,pp,xh,yu\n"
     ]
    }
   ],
   "source": [
    "#Part2\n",
    "inter = {}\n",
    "maxlist = []\n",
    "maxconnect = 13\n",
    "maxcount = 1\n",
    "for i in range(len(pairL)-1):\n",
    "    friendsi = pairL[i]\n",
    "    \n",
    "#     if len(friendsi)>maxfriends:\n",
    "#         print(friendsi, len(friendsi))\n",
    "#        maxfriends = len(friends)\n",
    "    \n",
    "    for j in range(i+1,len(pairL)):\n",
    "        friendsj = pairL[j]\n",
    "        \n",
    "        match = intersection(friendsi,friendsj)\n",
    "        #print(match,len(match))\n",
    "        if len(match)>=maxconnect:\n",
    "            m = ','.join(match)\n",
    "            \n",
    "            if m not in inter:\n",
    "                inter[m]= [len(match),1]\n",
    "            else:\n",
    "                count = inter[m][1]+1\n",
    "                inter[m] = [len(match),count]\n",
    "            if count>maxcount:\n",
    "                maxlist = [m,count]\n",
    "                maxcount = count\n",
    "print(f'Part 2 password: {maxlist[0]}')"
   ]
  }
 ],
 "metadata": {
  "kernelspec": {
   "display_name": "venv",
   "language": "python",
   "name": "python3"
  },
  "language_info": {
   "codemirror_mode": {
    "name": "ipython",
    "version": 3
   },
   "file_extension": ".py",
   "mimetype": "text/x-python",
   "name": "python",
   "nbconvert_exporter": "python",
   "pygments_lexer": "ipython3",
   "version": "3.13.2"
  }
 },
 "nbformat": 4,
 "nbformat_minor": 4
}
