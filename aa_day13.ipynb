{
 "cells": [
  {
   "cell_type": "markdown",
   "metadata": {},
   "source": [
    "My solution to https://adventofcode.com/2024/day/13, tokens and prizes.\n",
    "\n",
    "This required module sympy to use algebra.\n",
    "\n",
    "-Annette"
   ]
  },
  {
   "cell_type": "code",
   "execution_count": 3,
   "metadata": {},
   "outputs": [],
   "source": [
    "from sympy import symbols, Eq, solve #algebra solve"
   ]
  },
  {
   "cell_type": "code",
   "execution_count": null,
   "metadata": {},
   "outputs": [],
   "source": [
    "#Part1 Functions\n",
    "\n",
    "def minTokens(A,B,P): #brute force\n",
    "    '''input lists of button xy values and prize xy locations\n",
    "    output if prize is possible and if so minimum tokens'''\n",
    "    tokens=[]\n",
    "    combi = []\n",
    "    for i in range(100):\n",
    "        for j in range(100):\n",
    "            if i*A[0] + j*B[0]==P[0] and i*A[1] + j*B[1]==P[1]: #testing if combination equals prize\n",
    "                #print (i,j, P, 'tokens=',3*i+j)\n",
    "                tokens.append(3*i+j)\n",
    "                combi.append([i,j])\n",
    "            elif i*A[0] + j*B[0]>P[0] or i*A[1] + j*B[1]>P[1]: #if we've gone over the value, break\n",
    "                break\n",
    "    \n",
    "    if len(tokens)>0: \n",
    "       # print(i,j,P)\n",
    "        return(True, min(tokens),combi[tokens.index(min(tokens))])\n",
    "    else:\n",
    "        return(False,0,None)\n",
    "\n",
    "\n",
    "def prizeMatch (A,B,P):  #algebra solve\n",
    "    a,b = symbols('a b')\n",
    "    eq1 = Eq(P[0], a*A[0] + b*B[0])\n",
    "    eq2 = Eq(P[1], a*A[1] + b*B[1])\n",
    "    return solve((eq1,eq2), (a, b))"
   ]
  },
  {
   "cell_type": "code",
   "execution_count": null,
   "metadata": {},
   "outputs": [
    {
     "data": {
      "text/plain": [
       "1279"
      ]
     },
     "execution_count": 4,
     "metadata": {},
     "output_type": "execute_result"
    }
   ],
   "source": [
    "#open file and get information\n",
    "fileN = 'day13_input.txt'\n",
    "with open(fileN,'r') as file:\n",
    "    lines = file.read().splitlines()\n",
    "len(lines)"
   ]
  },
  {
   "cell_type": "code",
   "execution_count": null,
   "metadata": {
    "scrolled": true
   },
   "outputs": [
    {
     "data": {
      "text/plain": [
       "{'A': [11, 73], 'B': [65, 17], 'Prize': [18133, 4639]}"
      ]
     },
     "execution_count": 182,
     "metadata": {},
     "output_type": "execute_result"
    }
   ],
   "source": [
    "#convert lines above from file to dictionary of button presses and prize value\n",
    "#dictionary is called plays\n",
    "counter = 0\n",
    "textID = ['A','B','Prize']\n",
    "plays = {}\n",
    "play = {}\n",
    "for line in lines:\n",
    "    if len(line)==0:\n",
    "        \n",
    "        plays[counter] = play\n",
    "        play = {}\n",
    "        counter +=1\n",
    "    else:\n",
    "        line = line.replace('=','+')\n",
    "        for ID in textID:\n",
    "            if ID in line:\n",
    "                x = line[line.index('X+')+2:line.index(',')]\n",
    "                y = line[line.index('Y+')+2:]\n",
    "                play[ID] = [int(x),int(y)]\n",
    "                break\n",
    "#last line\n",
    "plays[counter] = play\n",
    "plays[0]"
   ]
  },
  {
   "cell_type": "code",
   "execution_count": null,
   "metadata": {},
   "outputs": [
    {
     "name": "stdout",
     "output_type": "stream",
     "text": [
      "138 prizes from 29438 tokens\n"
     ]
    }
   ],
   "source": [
    "#part 1 Using Brute Force\n",
    "prizes = 0\n",
    "tokens = 0\n",
    "prizeD = {}\n",
    "for i in range(len(plays)):\n",
    "    play = plays[i]\n",
    "    A = play['A']\n",
    "    B = play['B']\n",
    "    P = play['Prize']\n",
    "    prize, mintokens, combi = minTokens(A,B,P)\n",
    "    if prize:\n",
    "        prizes +=1\n",
    "        tokens += mintokens\n",
    "        #print(i, mintokens)\n",
    "        prizeD[i] = (combi,A,B,P)\n",
    "print(prizes,'prizes from', tokens,'tokens')\n"
   ]
  },
  {
   "cell_type": "code",
   "execution_count": null,
   "metadata": {
    "scrolled": true
   },
   "outputs": [
    {
     "name": "stdout",
     "output_type": "stream",
     "text": [
      "Part1 redo: 138 prizes from 29438 tokens.\n"
     ]
    }
   ],
   "source": [
    "#redo part1 Using Algebra sympy\n",
    "prizes = 0\n",
    "tokens = 0\n",
    "\n",
    "for i in range(len(plays)):\n",
    "    play = plays[i]\n",
    "    A = play['A']\n",
    "    B = play['B']\n",
    "    P = play['Prize']\n",
    "    temp = prizeMatch(A,B,P)\n",
    "    if temp[a] == temp[a]//1 and temp[b] == temp[b]//1: #if values in solution are integers, these are of type symbol.Integer\n",
    "        prizes +=1\n",
    "        tokens += 3*temp[a] + temp[b]\n",
    "print(f'Part1 redo: {prizes} prizes from {tokens} tokens.')"
   ]
  },
  {
   "cell_type": "code",
   "execution_count": null,
   "metadata": {},
   "outputs": [
    {
     "name": "stdout",
     "output_type": "stream",
     "text": [
      "Part2: 182 from 104958599303720 tokens\n"
     ]
    }
   ],
   "source": [
    "#Part2 Can only be done using Algebra\n",
    "prizes = 0\n",
    "tokens = 0\n",
    "for i in range(len(plays)): #len(plays)):\n",
    "    play = plays[i] \n",
    "    A = play['A']\n",
    "    B = play['B']\n",
    "    P = [play['Prize'][0]+10000000000000,play['Prize'][1]+10000000000000]\n",
    "    #prize, mintokens = minTokens2(A,B,P)\n",
    "    temp = prizeMatch(A,B,P)\n",
    "    if temp[a] == temp[a]//1 and temp[b] == temp[b]//1:\n",
    "        prizes +=1\n",
    "        tokens += 3*temp[a] + temp[b]\n",
    "        #print(i,temp)\n",
    "print(f'Part2: {prizes} from {tokens} tokens')"
   ]
  }
 ],
 "metadata": {
  "kernelspec": {
   "display_name": "venv",
   "language": "python",
   "name": "python3"
  },
  "language_info": {
   "codemirror_mode": {
    "name": "ipython",
    "version": 3
   },
   "file_extension": ".py",
   "mimetype": "text/x-python",
   "name": "python",
   "nbconvert_exporter": "python",
   "pygments_lexer": "ipython3",
   "version": "3.13.2"
  }
 },
 "nbformat": 4,
 "nbformat_minor": 4
}
