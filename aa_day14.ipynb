{
 "cells": [
  {
   "cell_type": "markdown",
   "metadata": {},
   "source": [
    "My solution to https://adventofcode.com/2024/day/14.\n",
    "\n",
    "Moving robots in a grid creating a Christmas tree in Part 2!\n",
    "\n",
    "Requires the module numpy for std deviation.\n",
    "\n",
    "-Annette"
   ]
  },
  {
   "cell_type": "code",
   "execution_count": 1,
   "metadata": {},
   "outputs": [],
   "source": [
    "#Import modules\n",
    "import numpy as np"
   ]
  },
  {
   "cell_type": "code",
   "execution_count": 2,
   "metadata": {},
   "outputs": [
    {
     "data": {
      "text/plain": [
       "500"
      ]
     },
     "execution_count": 2,
     "metadata": {},
     "output_type": "execute_result"
    }
   ],
   "source": [
    "#Open file and get information\n",
    "\n",
    "with open('day14_input.txt','r') as f:\n",
    "    lines = f.read().splitlines()\n",
    "len(lines)"
   ]
  },
  {
   "cell_type": "code",
   "execution_count": 3,
   "metadata": {},
   "outputs": [],
   "source": [
    "'''Part 1 A. Convert every line into a dictionary of format robot[int] = [p,v] \n",
    "where p and v are lists of two integer values representing x,y'''\n",
    "\n",
    "robots = {}\n",
    "for i in range(len(lines)):\n",
    "    l = lines[i]\n",
    "    p = [int(i) for i in l[2:l.index(' v')].split(',')]\n",
    "    v = [int(i) for i in l[l.index('v=')+2:].split(',')]   \n",
    "    robots[i] = [p,v]\n"
   ]
  },
  {
   "cell_type": "code",
   "execution_count": 4,
   "metadata": {},
   "outputs": [],
   "source": [
    "'''Part 2 B. Define matrix and Functions'''\n",
    "\n",
    "#Define matrix\n",
    "maxX = 101\n",
    "maxY = 103\n",
    "\n",
    "#Part 1 Functions\n",
    "def wrapMove(p,v):\n",
    "    '''individual moves'''\n",
    "    global maxX, maxY\n",
    "    \n",
    "    newX = p[0] + v[0]\n",
    "    newX = newX%maxX #if <0 or over max value\n",
    "    \n",
    "    newY= p[1] + v[1]\n",
    "    newY = newY%maxY #if <0 or over max value\n",
    "    \n",
    "    return [newX,newY]\n",
    "\n",
    "def moveRobot (p,v,times):\n",
    "    '''p = list of x,y coordinates\n",
    "    v = list of x,y move after 1 time'''\n",
    "    global maxX, maxY\n",
    "    \n",
    "    currentp = p\n",
    "    vx,vy = v\n",
    "    newv = [vx*times,vy*times]\n",
    "\n",
    "    currentp = wrapMove(currentp,newv)\n",
    "    return currentp\n",
    "\n",
    "def centerLines ():\n",
    "    '''values of x and y which are not part of quadrants'''\n",
    "    global maxX, maxY\n",
    "    centerX = maxX//2\n",
    "    centerY = maxY//2\n",
    "    return centerX,centerY\n",
    "\n",
    "def allQuadrants(robotCoords,centerX,centerY):\n",
    "    '''returns all quadrant values as four separate variables'''\n",
    "    q1,q2,q3,q4 = 0,0,0,0 #define four empty values\n",
    "    for x,y in robotCoords:\n",
    "        if x < centerX and y < centerY: #up left\n",
    "            q1 +=1\n",
    "        elif x > centerX and y < centerY: #up right\n",
    "            q2 +=1\n",
    "        elif x < centerX and y > centerY: #down left\n",
    "            q3 +=1\n",
    "        elif x > centerX and y > centerY: #down right\n",
    "            q4 +=1\n",
    "    return q1,q2,q3,q4\n",
    "        "
   ]
  },
  {
   "cell_type": "code",
   "execution_count": 5,
   "metadata": {},
   "outputs": [
    {
     "name": "stdout",
     "output_type": "stream",
     "text": [
      "Part 1 Answer, safety factor = 208437768\n"
     ]
    }
   ],
   "source": [
    "#Part1 Solution\n",
    "times = 100\n",
    "\n",
    "finalPositions = []\n",
    "for r in robots:\n",
    "    p = robots[r][0]\n",
    "    v = robots[r][1]\n",
    "    finalp = moveRobot(p,v,times)\n",
    "    finalPositions.append(finalp)\n",
    "\n",
    "centerX,centerY = centerLines()\n",
    "q1,q2,q3,q4 = allQuadrants(finalPositions,centerX,centerY)\n",
    "\n",
    "# print(q1,q2,q3,q4)\n",
    "print(f'Part 1 Answer, safety factor = {q1*q2*q3*q4}')"
   ]
  },
  {
   "cell_type": "code",
   "execution_count": 6,
   "metadata": {},
   "outputs": [],
   "source": [
    "#Part2 functions\n",
    "\n",
    "def drawMatrix(finalPositions):\n",
    "    '''draw matrix based on list of coordinates'''\n",
    "    global maxX, maxY\n",
    "    for currY in range(maxY):\n",
    "        line = maxX*' '\n",
    "        for x,y in finalPositions:\n",
    "            if y == currY:\n",
    "                line = line[:x] + '*' + line[x+1:]\n",
    "        print(line)\n",
    "    "
   ]
  },
  {
   "cell_type": "code",
   "execution_count": 7,
   "metadata": {
    "scrolled": false
   },
   "outputs": [
    {
     "name": "stdout",
     "output_type": "stream",
     "text": [
      "Part 2 Answer, Christmas tree first appears at 7492 seconds.\n",
      "Also appears at: \n",
      "17895 seconds, 28298 seconds, 38701 seconds, 49104 seconds, \n",
      " when stdev of 20.85 is reached.\n"
     ]
    }
   ],
   "source": [
    "#Part 2 Solution\n",
    "#Use np.std (standard deviation as measure of randomness of robot locations)\n",
    "#print np.std when it is below 23 (the first few were 29+)\n",
    "\n",
    "times = 50000\n",
    "t=1\n",
    "found = False\n",
    "while t<times:\n",
    "    finalPositions = []\n",
    "    t +=1\n",
    "    for r in robots:\n",
    "        p = robots[r][0]\n",
    "        v = robots[r][1]\n",
    "        finalp = moveRobot(p,v,t)\n",
    "        finalPositions.append(finalp)\n",
    "    \n",
    "    std = np.std(finalPositions)\n",
    "    \n",
    "    if std<23:\n",
    "        if not found:\n",
    "            print(f'Part 2 Answer, Christmas tree first appears at {t} seconds.')\n",
    "            low_std = std\n",
    "            found = True\n",
    "            print ('Also appears at: ')\n",
    "        else:\n",
    "            print(f'{t} seconds', end =', ')\n",
    "print (f'\\n when stdev of {round(low_std,2)} is reached.')"
   ]
  },
  {
   "cell_type": "code",
   "execution_count": 8,
   "metadata": {},
   "outputs": [
    {
     "name": "stdout",
     "output_type": "stream",
     "text": [
      "                                          *                                             *            \n",
      "*                     *   *          *                 *           *         *   **    *             \n",
      "   *           *                         *        *            *                           *         \n",
      "                                              *                  *                      ***          \n",
      "    *     *               *       *              *        *            *  *             *    *   *   \n",
      "                  *                   *  *                   *                                       \n",
      " *                         *                 *      *   **                               *           \n",
      "           *        *             *      *      * *       *             *                    *       \n",
      "                *                                 *            *                                  ** \n",
      " **                     *         *                             * *                *      *          \n",
      "                   *     *          *      *             *                  *                        \n",
      "             **      *                                     *                                   *   * \n",
      "      *     *              *         *      *  *     *        *    *             *                *  \n",
      " **                  *                                             *         *                       \n",
      "  *                           *                *                    *      *                   *     \n",
      "                    *                                                     *          *      *        \n",
      "                     *                           *  *       * *  *                                   \n",
      "                         *      *    *                     *      *                          *      *\n",
      "   *                                          *                                                      \n",
      " *       *                *     *     *            * *             * *       ***             *       \n",
      "                        *                   *     *                            *                     \n",
      "  *           *    *                                  * *                             *       *      \n",
      "        *       *                                                                   *     *          \n",
      "    *          *  *  *  *               *  *                        *                   *            \n",
      "         *         *  ***            *                                                        *      \n",
      "                **       *                         *            *   **                       *       \n",
      "      *              *         *            *        ***              *               *    *         \n",
      "*  *      *            *   *     ** *   *             *             *                            *   \n",
      "   **             *                  *                     *          *                   *          \n",
      "                                                                                       *            *\n",
      "     *    *             *                                                            *               \n",
      "                   *                          **     *                        *  *                   \n",
      "              *                          *         *                 *  *    *                       \n",
      "    *                          *                                      *                      *       \n",
      "        *            *                                                               **   *          \n",
      "      *                     *                                 *  *               *                 * \n",
      "              *                     *   *            *     *                                *        \n",
      "                                      *                        *          *         *         *  *   \n",
      "                          * *                            *  *                 *      * *             \n",
      "             *          *         * *                   *  *                     *                   \n",
      "  *      *                *   *                  *         *    *                                    \n",
      "                 *******************************        *                 * **            *   *      \n",
      "               * *                    *        *                        *        **        *         \n",
      "        **      **           *                 *                                          *          \n",
      "        *        *             **              *       *  *         *    *  *           *            \n",
      "                 *                        *    *    *      **                           *            \n",
      "                 * *            *              *            *                                *       \n",
      "   *     *       *             ***             * *                      *  *                         \n",
      "                 *            *****            *                          *                          \n",
      "               * *       *   *******           *                *                                    \n",
      " *               *  *       *********          *              **    *               *           *    \n",
      "                 *            *****  **        *             *                     *                 \n",
      "   *           * * *         *******           *     *               *  *               *        *   \n",
      "                 *          *********          *    *                              *                 \n",
      "                 *         ***********         *                    *               *                \n",
      "         *       *        *************        *           *                  *              *       \n",
      "              *  * * *    * *********   *      *     *                            *                  \n",
      "     *           *       * ***********       * *            *                *       *               \n",
      "*                *        *************        **                 *                          *       \n",
      "                 *  *    ***************       *           *                    *          *         \n",
      "          *      * ***  *****************      *                      *    *        **               \n",
      "                 *        *************        *                                                     \n",
      "       *         *       ***************   *   *             *      *    *       *              *    \n",
      "                 *      ******************     *          *                                          \n",
      "        *   *    *     *******************     *               *                     *  *            \n",
      "   *   *         *    ********************* *  *  *                    *                             \n",
      "                 *             ***     *       *  *         *   *               *    *         *     \n",
      "  * *      **    *             ***             *         *             *            *                \n",
      "                 *   * *       ***             * *                      *     *        *       *     \n",
      " *          *    *       *               *     *         *   *                  *     *              \n",
      "         *       *                          *  *  * *                        *     *                 \n",
      "     *           *        *   *                *                             *                   * * \n",
      "                **                         *   **                            *                       \n",
      "         *       *******************************                                     *               \n",
      "                                                    * *                     *                        \n",
      "          *    *          * *     *                    *                                *     *    * \n",
      "    *          *         *                                              *         *  *    *          \n",
      "                    *      *                       * *                 *          *                  \n",
      "  *                                *   * *           *                     *     *                   \n",
      " *              * *  *         *     *                                       *     *                 \n",
      "                *      *         **             *    *                   *         *   *             \n",
      "*  *   * *         *                                                **                     *         \n",
      "*                                  *    *         *               *                        *         \n",
      "              *                       *    *                        *                                \n",
      "*    **                 *                    *                *      *              *                \n",
      "  *       *    *                *  *  *          *   *                                         *     \n",
      "                     *    *                  *                             * *      *                \n",
      "  *           *      *                                                *         *   *                \n",
      "                    *   *                 *                *                    *                   *\n",
      "                  *                                          *       *                 *   *         \n",
      "                                      *                                                              \n",
      "              *            *           **                    **              *         *          *  \n",
      "                          * *                                    *              *                    \n",
      "                          *     *                   *          *    *                    *           \n",
      " *               *     *  *                     ***           *              **             *        \n",
      "          *         *                                             *                                  \n",
      "    *                                                 *                            *             *   \n",
      "                                       *                    *          *      *   *       *          \n",
      "      *                 *        *     *             *                 *   *              *          \n",
      "                         *       *                       *        *                            *     \n",
      "       *                     * *        *                                               *            \n",
      "                   *    **          *        *                                          *    *       \n",
      "            * *            *            *              *     *            *                *        *\n"
     ]
    }
   ],
   "source": [
    "#drawing after the part 2 answer above\n",
    "t = 7492\n",
    "\n",
    "for r in robots:\n",
    "    p = robots[r][0]\n",
    "    v = robots[r][1]\n",
    "    finalp = moveRobot(p,v,t)\n",
    "    finalPositions.append(finalp)\n",
    "drawMatrix(finalPositions)"
   ]
  }
 ],
 "metadata": {
  "kernelspec": {
   "display_name": "venv",
   "language": "python",
   "name": "python3"
  },
  "language_info": {
   "codemirror_mode": {
    "name": "ipython",
    "version": 3
   },
   "file_extension": ".py",
   "mimetype": "text/x-python",
   "name": "python",
   "nbconvert_exporter": "python",
   "pygments_lexer": "ipython3",
   "version": "3.13.2"
  }
 },
 "nbformat": 4,
 "nbformat_minor": 4
}
