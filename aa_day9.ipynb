{
 "cells": [
  {
   "cell_type": "markdown",
   "metadata": {},
   "source": [
    "My solution to https://adventofcode.com/2024/day/9.\n",
    "\n",
    "This is like defragmenting a hard drive task.\n",
    "\n",
    "-Annette\n",
    "\n"
   ]
  },
  {
   "cell_type": "code",
   "execution_count": 9,
   "metadata": {},
   "outputs": [],
   "source": [
    "#import to time solutions\n",
    "import time"
   ]
  },
  {
   "cell_type": "code",
   "execution_count": 10,
   "metadata": {},
   "outputs": [],
   "source": [
    "#Part1 Functions\n",
    "\n",
    "def fragment (text):\n",
    "    '''break text into files and space, return list of these of these elements'''\n",
    "    \n",
    "    frL = [] #output list of chars in fragment\n",
    "    blankL = [] #list of indices of blanks\n",
    "    frLi = 0 #index counter for list\n",
    "    \n",
    "    for i in range(len(text)):\n",
    "\n",
    "        if i%2==0:\n",
    "            filePos = i//2\n",
    "            numchars = int(text[i])\n",
    "            for n in range(numchars):\n",
    "                frL.append(filePos)\n",
    "                frLi += 1\n",
    "        else:\n",
    "            numblanks = int(text[i])\n",
    "            for m in range(numblanks):\n",
    "                frL.append('.')\n",
    "                blankL.append(frLi)\n",
    "                frLi+=1\n",
    "    return frL, blankL\n",
    "\n",
    "def defragL0 (frL, blankL):\n",
    "    '''starting from list, defrag as described by AoC, improve previous function''' \n",
    "    end = len(frL)-1\n",
    "    for bpos in blankL:        \n",
    "        for i in range(end,bpos+1,-1):\n",
    "            if frL[i] != '.':\n",
    "                end = i\n",
    "                newchar = frL[end]\n",
    "                frL[bpos] = newchar\n",
    "                frL[end] = '.'\n",
    "                break\n",
    "    return frL\n",
    "    \n",
    "\n",
    "\n",
    "def checksumL (frL):\n",
    "    '''returns checksum as defined by AoC\n",
    "    position * num at position'''\n",
    "    end = frL.index('.') #won't check beyond this\n",
    "    checksum = 0\n",
    "    for i in range(end):\n",
    "        num = frL[i]\n",
    "        checksum += num * i\n",
    "    return checksum\n"
   ]
  },
  {
   "cell_type": "code",
   "execution_count": 11,
   "metadata": {},
   "outputs": [
    {
     "data": {
      "text/plain": [
       "19999"
      ]
     },
     "execution_count": 11,
     "metadata": {},
     "output_type": "execute_result"
    }
   ],
   "source": [
    "#Open input file , which consists of one very long line\n",
    "\n",
    "fileN = 'day9_input.txt'\n",
    "with open (fileN,'r') as f:\n",
    "    line = f.readline().strip()\n",
    "\n",
    "len(line)\n",
    "\n"
   ]
  },
  {
   "cell_type": "code",
   "execution_count": 12,
   "metadata": {
    "scrolled": true
   },
   "outputs": [
    {
     "name": "stdout",
     "output_type": "stream",
     "text": [
      "step1 0.01150202751159668 seconds\n",
      "step2 0.007477998733520508 seconds\n",
      "step3 0.003231048583984375 seconds\n",
      "\n",
      "Part 1 Answer: 6448989155953\n",
      "after 0.022283077239990234 seconds\n"
     ]
    }
   ],
   "source": [
    "#Part1 calculation\n",
    "\n",
    "start = time.time()\n",
    "frL1, blanki = fragment(line)\n",
    "step1=time.time()\n",
    "print(f'step1 {step1-start} seconds')\n",
    "\n",
    "defL1 = defragL0(frL1, blanki)\n",
    "step2= time.time()\n",
    "print(f'step2 {step2-step1} seconds')\n",
    "\n",
    "checksum = checksumL(defL1)\n",
    "step3=time.time()\n",
    "print(f'step3 {step3-step2} seconds')\n",
    "\n",
    "print(f'\\nPart 1 Answer: {checksum}')\n",
    "\n",
    "print(f'after {time.time()-start} seconds')"
   ]
  },
  {
   "cell_type": "code",
   "execution_count": 13,
   "metadata": {},
   "outputs": [],
   "source": [
    "#Part 2 functions\n",
    "\n",
    "\n",
    "def fragment2 (text):\n",
    "    '''output list of lists, so you can move things in chunks'''\n",
    "    frL = [] #is list of lists\n",
    "    blankD = {}\n",
    "    setcount = 0\n",
    "    numD = {}\n",
    "    for i in range(len(text)):\n",
    "        if i%2==0:\n",
    "            filePos = i//2\n",
    "            numchars = int(text[i])\n",
    "            if numchars>0:\n",
    "                numL = numchars*[filePos] #make innerlist\n",
    "                frL.append(numL) #append innerlist to outer list\n",
    "                numD[setcount]=numchars\n",
    "                setcount +=1\n",
    "        else:\n",
    "            numblanks = int(text[i])\n",
    "            if numblanks>0:\n",
    "                blankL=numblanks*['.']\n",
    "                frL.append(blankL)\n",
    "                blankD[setcount]=numblanks\n",
    "                setcount +=1\n",
    "    return frL, blankD, numD\n",
    "            \n",
    "def defrag2(frLc, blankD,numD):\n",
    "    '''input from fragment2, outputs list for checksumL'''\n",
    "\n",
    "    frL = frLc.copy()\n",
    "    start = 0 #start from end\n",
    "    for npos in list(reversed(numD.keys())): #positions of files in reverse\n",
    "        numL = frL[npos] #nums in list\n",
    "        ntot = numD[npos]#length of list\n",
    "        num = numL[0]\n",
    "        #print(npos, 'which is',num)\n",
    "        \n",
    "        for bpos in blankD: #positions of blanks in forward order\n",
    "            if bpos<npos and blankD[bpos] >= ntot: #if blank earlier than num AND if number of blanks can accomodate files\n",
    "                blankL = frL[bpos] \n",
    "                origbtot = len(blankL)\n",
    "                btot = blankD[bpos]\n",
    "                diff= btot-ntot\n",
    "                \n",
    "                for i in range(ntot):\n",
    "                    numL[-1-i] = '.'\n",
    "                    blankL[origbtot-btot+i] = num\n",
    "                \n",
    "                    frL[bpos] = blankL\n",
    "                    frL[npos] = numL\n",
    "                \n",
    "                blankD[bpos]=diff #update number of blanks available\n",
    "                break\n",
    "        #print(frL)    \n",
    "    return frL\n",
    "                    \n",
    "def checksum2(frL):\n",
    "    '''start from list of lists then get checksum as defined in AoC'''\n",
    "    checksum = 0\n",
    "    counter = 0\n",
    "    for outeri in range(len(frL)):\n",
    "        for inneri in range(len(frL[outeri])):\n",
    "            if frL[outeri][inneri] != '.':\n",
    "                checksum += frL[outeri][inneri] * counter\n",
    "#                 print(counter,checksum)\n",
    "#             else:\n",
    "#                 print(counter)\n",
    "            counter +=1\n",
    "                \n",
    "\n",
    "    return checksum,counter\n",
    "    "
   ]
  },
  {
   "cell_type": "code",
   "execution_count": 14,
   "metadata": {
    "scrolled": true
   },
   "outputs": [
    {
     "name": "stdout",
     "output_type": "stream",
     "text": [
      "Part2 with sample: checksum, number of files and spaces: (2858, 42)\n"
     ]
    }
   ],
   "source": [
    "#Part2 with sample\n",
    "\n",
    "test = '2333133121414131402'\n",
    "\n",
    "frL,blankD,numD=fragment2(test)\n",
    "defr= defrag2(frL,blankD,numD)\n",
    "print(f'Part2 with sample: checksum, number of files and spaces: {checksum2(defr)}')"
   ]
  },
  {
   "cell_type": "code",
   "execution_count": 15,
   "metadata": {},
   "outputs": [
    {
     "name": "stdout",
     "output_type": "stream",
     "text": [
      "Part2 with input: checksum, number of files and spaces: (6476642796832, 94971)\n"
     ]
    }
   ],
   "source": [
    "#Part2 calc WITH INPUT\n",
    "\n",
    "frL2,blankD2,numD2=fragment2(line)\n",
    "defr2= defrag2(frL2,blankD2,numD2)\n",
    "\n",
    "print(f'Part2 with input: checksum, number of files and spaces: {checksum2(defr2)}')"
   ]
  },
  {
   "cell_type": "code",
   "execution_count": null,
   "metadata": {},
   "outputs": [],
   "source": []
  }
 ],
 "metadata": {
  "kernelspec": {
   "display_name": "venv",
   "language": "python",
   "name": "python3"
  },
  "language_info": {
   "codemirror_mode": {
    "name": "ipython",
    "version": 3
   },
   "file_extension": ".py",
   "mimetype": "text/x-python",
   "name": "python",
   "nbconvert_exporter": "python",
   "pygments_lexer": "ipython3",
   "version": "3.13.2"
  }
 },
 "nbformat": 4,
 "nbformat_minor": 4
}
