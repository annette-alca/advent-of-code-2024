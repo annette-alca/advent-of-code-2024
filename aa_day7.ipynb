{
 "cells": [
  {
   "cell_type": "markdown",
   "metadata": {},
   "source": [
    "My solution to https://adventofcode.com/2024/day/7.\n",
    "\n",
    "Math operations on numpy arrays.\n",
    "\n",
    "The <ins>Part 1</ins> approach is to create an expanding numpy array (products and sums) as operators are taken from left to right. \n",
    "- Function `twoVals` does the operation and is called repeatedly by the recursive function `outputEachLine` to create the final numpy array. \n",
    "- `outputEachLine` also evaluates whether the expected resulting value is within this final array. If so, it returns the expected resulting value. If not, it returns 0.\n",
    "- `outputEachLine` is called for every line in the input text and the total of its results is the Part 1 answer.\n",
    "\n",
    "The <ins>Part 2</ins> approach is the same. The only difference is that the expanding numpy array contains more numbers (products, sums, and now the concatenated numer) as operators are taken from left to right. Function `threeVals` is used in place of twoVals in Part 1.\n",
    "\n",
    "-Annette"
   ]
  },
  {
   "cell_type": "code",
   "execution_count": 2,
   "metadata": {},
   "outputs": [],
   "source": [
    "#Modules to import\n",
    "import numpy as np\n",
    "import time #just to time the solution"
   ]
  },
  {
   "cell_type": "code",
   "execution_count": 3,
   "metadata": {},
   "outputs": [
    {
     "name": "stdout",
     "output_type": "stream",
     "text": [
      "number of lines to evaluate: len(lines)\n"
     ]
    }
   ],
   "source": [
    "#Open file and get information\n",
    "with open (\"day7_input.txt\", \"r\") as f:\n",
    "    lines = f.read().splitlines()\n",
    "print(f\"number of lines to evaluate: len(lines)\")"
   ]
  },
  {
   "cell_type": "code",
   "execution_count": 50,
   "metadata": {},
   "outputs": [],
   "source": [
    "#Part 1 and 2 Functions\n",
    "\n",
    "def getNums(line): #get the expected_result and list of operators for each line\n",
    "    '''input text from file\n",
    "    output result as integer and \n",
    "    operands as list of integers'''\n",
    "    ind = line.index(':')\n",
    "    expected_result = int(line[:ind])\n",
    "    numL = [int(num) for num in line[ind+2:].split()]\n",
    "    return numL, expected_result\n",
    "\n",
    "def twoVals (arr1,num2): #For Part 1, array operations to get product and sum, array expands by factor of 2\n",
    "    '''return two possible values, use this to expand array'''\n",
    "    pdt = arr1 * num2\n",
    "    summ = arr1 + num2\n",
    "\n",
    "    newvals = np.concatenate((pdt,summ)) #joining arrays of products and sums\n",
    "    return newvals\n",
    "\n",
    "def threeVals (arr1,num2): #For Part 2, array operations to get product, sum, and concatenation. Array expands by factor of 3.\n",
    "    '''return three possible values, use this to expand'''\n",
    "    pdt = arr1 * num2\n",
    "    summ = arr1 + num2\n",
    "    \n",
    "    exponent = len(str(num2)) #find out how many decimal places num2 is\n",
    "    conc = (arr1 * 10**exponent) + num2  #concatenated value \n",
    "    \n",
    "    newvals = np.concatenate((pdt,summ,conc))\n",
    "    return newvals\n",
    "\n",
    "def outputEachLine (current_arr, testL:list, expected_result:int, part=1): \n",
    "    '''recursive function to calculate the final array for each line\n",
    "    return expected_result if it's int he array or 0 if it's not\n",
    "    used for Parts 1 and 2'''\n",
    "    num2 = testL[0]\n",
    "    if part == 1:\n",
    "        current_arr = twoVals(current_arr,num2)\n",
    "    elif part == 2:\n",
    "        current_arr = threeVals(current_arr,num2)\n",
    "    if len(testL) == 1:\n",
    "        if expected_result in current_arr:\n",
    "            return expected_result\n",
    "        else:\n",
    "            return 0\n",
    "    return outputEachLine(current_arr, testL[1:], expected_result, part)\n"
   ]
  },
  {
   "cell_type": "code",
   "execution_count": 51,
   "metadata": {},
   "outputs": [
    {
     "name": "stdout",
     "output_type": "stream",
     "text": [
      "Part 1 Answer: 2664460013123\n",
      "--- 0.02906203269958496 seconds ---\n"
     ]
    }
   ],
   "source": [
    "#Part 1 Solution\n",
    "start = time.time()\n",
    "total = 0\n",
    "for l in lines:\n",
    "    testL, expected_result = getNums(l)\n",
    "    current_arr = np.array([testL[0]]) #starting value is first integer in list and is stored in a numpy array\n",
    "    total += outputEachLine(current_arr, testL[1:], expected_result, 1)\n",
    "\n",
    "print(f\"Part 1 Answer: {total}\")\n",
    "print(\"--- %s seconds ---\" % (time.time() - start))\n",
    "\n",
    "    "
   ]
  },
  {
   "cell_type": "code",
   "execution_count": 53,
   "metadata": {},
   "outputs": [
    {
     "name": "stdout",
     "output_type": "stream",
     "text": [
      "Part 2 Answer: 426214131924213\n",
      "--- 0.09800601005554199 seconds ---\n"
     ]
    }
   ],
   "source": [
    "#Part2 Solution\n",
    "start = time.time()\n",
    "total = 0\n",
    "for l in lines:\n",
    "    testL, expected_result = getNums(l)\n",
    "    current_arr = np.array([testL[0]]) #starting value is first integer in list and is stored in a numpy array\n",
    "    total += outputEachLine(current_arr, testL[1:], expected_result, 2)\n",
    "\n",
    "print(f\"Part 2 Answer: {total}\")\n",
    "print(\"--- %s seconds ---\" % (time.time() - start))\n"
   ]
  }
 ],
 "metadata": {
  "kernelspec": {
   "display_name": "venv",
   "language": "python",
   "name": "python3"
  },
  "language_info": {
   "codemirror_mode": {
    "name": "ipython",
    "version": 3
   },
   "file_extension": ".py",
   "mimetype": "text/x-python",
   "name": "python",
   "nbconvert_exporter": "python",
   "pygments_lexer": "ipython3",
   "version": "3.13.2"
  }
 },
 "nbformat": 4,
 "nbformat_minor": 4
}
