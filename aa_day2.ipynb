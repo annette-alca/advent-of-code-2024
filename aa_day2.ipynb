{
 "cells": [
  {
   "cell_type": "markdown",
   "metadata": {},
   "source": [
    "My solution to https://adventofcode.com/2024/day/2\n",
    "\n",
    "This was refactored in 2025 to use lists instead of columns in pandas. I also shortened the solutions using list comprehensions.\n",
    "Requires numpy module.\n",
    "\n",
    "-Annette"
   ]
  },
  {
   "cell_type": "code",
   "execution_count": 1,
   "metadata": {},
   "outputs": [],
   "source": [
    "#import modules\n",
    "import numpy as np"
   ]
  },
  {
   "cell_type": "code",
   "execution_count": 2,
   "metadata": {
    "scrolled": false
   },
   "outputs": [],
   "source": [
    "#Open file and get information\n",
    "file = open('day2_input.txt','r')\n",
    "lines = file.read().splitlines()\n",
    "file.close()"
   ]
  },
  {
   "cell_type": "code",
   "execution_count": 3,
   "metadata": {},
   "outputs": [],
   "source": [
    "#Part1 Function\n",
    "def safetest (numarr,ascendstat):\n",
    "    '''numarr : array of numbers\n",
    "    ascendstat : True for ascending numbers    \n",
    "    returns True if safe'''\n",
    "    \n",
    "    if not ascendstat:\n",
    "        numarr = -1*numarr\n",
    "    for i in range(1,len(numarr)):\n",
    "        diff = numarr[i]-numarr[i-1]\n",
    "        if diff < 1:\n",
    "            return False\n",
    "        elif diff > 3:\n",
    "            return False\n",
    "    return True"
   ]
  },
  {
   "cell_type": "code",
   "execution_count": 6,
   "metadata": {},
   "outputs": [
    {
     "name": "stdout",
     "output_type": "stream",
     "text": [
      "Part 1 Answer: 269\n"
     ]
    }
   ],
   "source": [
    "# Part 1 Solution\n",
    "safecount = 0\n",
    "numarr_lst = []\n",
    "for l in lines:\n",
    "    numL = [int(i) for i in l.split()]\n",
    "    numarr = np.array(numL)\n",
    "    numarr_lst.append(numarr) #use in Part 2\n",
    "    \n",
    "    if safetest(numarr,True) or safetest (numarr,False): #test in ascending or descending\n",
    "        safecount +=1\n",
    "            \n",
    "print(f\"Part 1 Answer: {safecount}\")"
   ]
  },
  {
   "cell_type": "code",
   "execution_count": 8,
   "metadata": {},
   "outputs": [
    {
     "name": "stdout",
     "output_type": "stream",
     "text": [
      "Part 2 Answer: 337\n"
     ]
    }
   ],
   "source": [
    "#Part 2 Solution\n",
    "safecount2 = 0\n",
    "for numarr in numarr_lst:\n",
    "    for ind in range(len(numarr)): #loop through numbers, removing each one from array\n",
    "        numarr2 = np.delete(numarr,ind) \n",
    "\n",
    "        if safetest(numarr2, True) or safetest(numarr2,False): #test both in ascending and descending\n",
    "            safecount2 +=1 #count as safe if test \n",
    "            break\n",
    "\n",
    "print(f\"Part 2 Answer: {safecount2}\")"
   ]
  },
  {
   "cell_type": "code",
   "execution_count": null,
   "metadata": {},
   "outputs": [],
   "source": []
  }
 ],
 "metadata": {
  "kernelspec": {
   "display_name": "venv",
   "language": "python",
   "name": "python3"
  },
  "language_info": {
   "codemirror_mode": {
    "name": "ipython",
    "version": 3
   },
   "file_extension": ".py",
   "mimetype": "text/x-python",
   "name": "python",
   "nbconvert_exporter": "python",
   "pygments_lexer": "ipython3",
   "version": "3.13.2"
  }
 },
 "nbformat": 4,
 "nbformat_minor": 4
}
